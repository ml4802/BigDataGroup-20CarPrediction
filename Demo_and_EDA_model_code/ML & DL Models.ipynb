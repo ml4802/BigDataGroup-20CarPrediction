{
 "cells": [
  {
   "cell_type": "code",
   "execution_count": 2,
   "id": "62d5d5d4",
   "metadata": {},
   "outputs": [],
   "source": [
    "from tensorflow import keras as ks\n",
    "import sklearn\n",
    "import numpy as np\n",
    "import pandas as pd\n",
    "import matplotlib.pyplot as plt\n",
    "from sklearn.model_selection import train_test_split"
   ]
  },
  {
   "cell_type": "markdown",
   "id": "ea7e26c1",
   "metadata": {},
   "source": [
    "\n",
    "\n",
    "One-hotted Data and Models\n",
    "\n"
   ]
  },
  {
   "cell_type": "code",
   "execution_count": 3,
   "id": "28d351a1",
   "metadata": {},
   "outputs": [
    {
     "name": "stdout",
     "output_type": "stream",
     "text": [
      "         price  year  condition  cylinders  odometer  posting_date  \\\n",
      "0      15000.0  2013         10          6    128000          2021   \n",
      "1      19900.0  2004          6          8     88000          2021   \n",
      "2      14000.0  2012         10          6     95000          2021   \n",
      "3      22500.0  2001          6          8    144700          2021   \n",
      "4      15000.0  2017         10          8     90000          2021   \n",
      "...        ...   ...        ...        ...       ...           ...   \n",
      "65798  18000.0  2005         10          8    130000          2021   \n",
      "65799  18000.0  1990          6          8    114400          2021   \n",
      "65800   9800.0  1985         15          6    115000          2021   \n",
      "65801   6800.0  1997          6          8     69550          2021   \n",
      "65802  21900.0  1920          6          6     11065          2021   \n",
      "\n",
      "       income_this_year  manufactureracura  manufactureraudi  manufacturerbmw  \\\n",
      "0                 49769                  0                 0                0   \n",
      "1                 49769                  0                 0                0   \n",
      "2                 49769                  0                 0                0   \n",
      "3                 49769                  0                 0                0   \n",
      "4                 49769                  0                 0                0   \n",
      "...                 ...                ...               ...              ...   \n",
      "65798             59626                  0                 0                0   \n",
      "65799             59626                  0                 0                0   \n",
      "65800             59626                  0                 0                0   \n",
      "65801             59626                  0                 0                0   \n",
      "65802             59626                  0                 0                0   \n",
      "\n",
      "       ...  typeSUV  typetruck  typevan  paint_colorblack  paint_colorblue  \\\n",
      "0      ...        0          1        0                 1                0   \n",
      "1      ...        0          0        0                 0                1   \n",
      "2      ...        0          0        1                 0                0   \n",
      "3      ...        0          1        0                 0                0   \n",
      "4      ...        0          0        0                 0                0   \n",
      "...    ...      ...        ...      ...               ...              ...   \n",
      "65798  ...        0          1        0                 0                1   \n",
      "65799  ...        1          0        0                 1                0   \n",
      "65800  ...        0          0        0                 0                0   \n",
      "65801  ...        0          0        0                 0                0   \n",
      "65802  ...        0          0        0                 1                0   \n",
      "\n",
      "       paint_colorgrey  paint_colorother  paint_colorred  paint_colorsilver  \\\n",
      "0                    0                 0               0                  0   \n",
      "1                    0                 0               0                  0   \n",
      "2                    0                 0               0                  1   \n",
      "3                    0                 0               0                  0   \n",
      "4                    1                 0               0                  0   \n",
      "...                ...               ...             ...                ...   \n",
      "65798                0                 0               0                  0   \n",
      "65799                0                 0               0                  0   \n",
      "65800                0                 0               1                  0   \n",
      "65801                0                 0               0                  0   \n",
      "65802                0                 0               0                  0   \n",
      "\n",
      "       paint_colorwhite  \n",
      "0                     0  \n",
      "1                     0  \n",
      "2                     0  \n",
      "3                     1  \n",
      "4                     0  \n",
      "...                 ...  \n",
      "65798                 0  \n",
      "65799                 0  \n",
      "65800                 0  \n",
      "65801                 1  \n",
      "65802                 0  \n",
      "\n",
      "[63916 rows x 65 columns]\n"
     ]
    }
   ],
   "source": [
    "one_hot_data = pd.read_csv('one_hotted_training_data.csv')\n",
    "one_hot_data = one_hot_data[one_hot_data['price'] <= 50000]\n",
    "one_hot_data = one_hot_data[one_hot_data['price'] > 500]\n",
    "#print(one_hot_data.price.describe())\n",
    "print(one_hot_data)\n",
    "\n",
    "train, test = train_test_split(one_hot_data, test_size=0.2)\n",
    "X_train = train.drop('price', axis=1).to_numpy()\n",
    "y_train = train['price'].to_numpy()\n",
    "X_valid = test.drop('price', axis=1).to_numpy()\n",
    "y_valid = test['price'].to_numpy()\n"
   ]
  },
  {
   "cell_type": "code",
   "execution_count": 4,
   "id": "a052a8fa",
   "metadata": {},
   "outputs": [
    {
     "name": "stdout",
     "output_type": "stream",
     "text": [
      "X_train Shape: (51132, 64)\n",
      "y_train Shape: (51132,)\n",
      "X_valid Shape: (12784, 64)\n",
      "y_valid Shape: (12784,)\n"
     ]
    }
   ],
   "source": [
    "print(\"X_train Shape:\", X_train.shape)\n",
    "print(\"y_train Shape:\", y_train.shape)\n",
    "print(\"X_valid Shape:\", X_valid.shape)\n",
    "print(\"y_valid Shape:\", y_valid.shape)"
   ]
  },
  {
   "cell_type": "code",
   "execution_count": 5,
   "id": "0f07f7c0",
   "metadata": {},
   "outputs": [
    {
     "name": "stdout",
     "output_type": "stream",
     "text": [
      "Metal device set to: Apple M1 Pro\n"
     ]
    },
    {
     "name": "stderr",
     "output_type": "stream",
     "text": [
      "2022-12-23 00:48:00.766808: I tensorflow/core/common_runtime/pluggable_device/pluggable_device_factory.cc:305] Could not identify NUMA node of platform GPU ID 0, defaulting to 0. Your kernel may not have been built with NUMA support.\n",
      "2022-12-23 00:48:00.767475: I tensorflow/core/common_runtime/pluggable_device/pluggable_device_factory.cc:271] Created TensorFlow device (/job:localhost/replica:0/task:0/device:GPU:0 with 0 MB memory) -> physical PluggableDevice (device: 0, name: METAL, pci bus id: <undefined>)\n",
      "/opt/anaconda3/envs/keras_test_env/lib/python3.10/site-packages/keras/optimizers/optimizer_v2/adam.py:110: UserWarning: The `lr` argument is deprecated, use `learning_rate` instead.\n",
      "  super(Adam, self).__init__(name, **kwargs)\n"
     ]
    }
   ],
   "source": [
    "model_in = ks.Input(shape=(X_train.shape[1], ), dtype='float32')\n",
    "\n",
    "out = ks.layers.LayerNormalization()(model_in)\n",
    "out = ks.layers.Dense(1024, activation='relu')(out)\n",
    "out = ks.layers.Dense(1024, activation='relu')(out)\n",
    "out = ks.layers.Dropout(0.2)(out)\n",
    "out = ks.layers.Dense(1024, activation='relu')(out)\n",
    "out = ks.layers.Dropout(0.2)(out)\n",
    "out = ks.layers.Dense(512, activation='relu')(out)\n",
    "out = ks.layers.Dropout(0.2)(out)\n",
    "out = ks.layers.Dense(512, activation='relu')(out)\n",
    "out = ks.layers.Dropout(0.2)(out)\n",
    "out = ks.layers.Dense(256, activation='relu')(out)\n",
    "out = ks.layers.Dropout(0.2)(out)\n",
    "out = ks.layers.Dense(128, activation='relu')(out)\n",
    "out = ks.layers.Dense(64, activation='relu')(out)\n",
    "out = ks.layers.Dense(32, activation='relu')(out)\n",
    "out = ks.layers.Dense(16, activation='relu')(out)\n",
    "out = ks.layers.Dense(1)(out)\n",
    "\n",
    "model = ks.Model(model_in, out)\n",
    "#model.summary()\n",
    "model.compile(loss='mean_squared_error', optimizer=ks.optimizers.Adam(lr=3e-5))"
   ]
  },
  {
   "cell_type": "code",
   "execution_count": 6,
   "id": "1e938ab8",
   "metadata": {
    "scrolled": false
   },
   "outputs": [
    {
     "name": "stdout",
     "output_type": "stream",
     "text": [
      "Epoch 1/15\n"
     ]
    },
    {
     "name": "stderr",
     "output_type": "stream",
     "text": [
      "2022-12-23 00:49:11.393713: W tensorflow/core/platform/profile_utils/cpu_utils.cc:128] Failed to get CPU frequency: 0 Hz\n",
      "2022-12-23 00:49:11.825081: I tensorflow/core/grappler/optimizers/custom_graph_optimizer_registry.cc:113] Plugin optimizer for device_type GPU is enabled.\n"
     ]
    },
    {
     "name": "stdout",
     "output_type": "stream",
     "text": [
      "512/512 [==============================] - ETA: 0s - loss: 135576576.0000"
     ]
    },
    {
     "name": "stderr",
     "output_type": "stream",
     "text": [
      "2022-12-23 00:49:18.140664: I tensorflow/core/grappler/optimizers/custom_graph_optimizer_registry.cc:113] Plugin optimizer for device_type GPU is enabled.\n"
     ]
    },
    {
     "name": "stdout",
     "output_type": "stream",
     "text": [
      "512/512 [==============================] - 7s 12ms/step - loss: 135576576.0000 - val_loss: 81554648.0000\n",
      "Epoch 2/15\n",
      "512/512 [==============================] - 5s 10ms/step - loss: 81012272.0000 - val_loss: 81713472.0000\n",
      "Epoch 3/15\n",
      "512/512 [==============================] - 5s 10ms/step - loss: 80753800.0000 - val_loss: 81750120.0000\n",
      "Epoch 4/15\n",
      "512/512 [==============================] - 5s 10ms/step - loss: 80577832.0000 - val_loss: 81468936.0000\n",
      "Epoch 5/15\n",
      "512/512 [==============================] - 5s 10ms/step - loss: 80472512.0000 - val_loss: 80796808.0000\n",
      "Epoch 6/15\n",
      "512/512 [==============================] - 5s 10ms/step - loss: 80382336.0000 - val_loss: 80767304.0000\n",
      "Epoch 7/15\n",
      "512/512 [==============================] - 5s 10ms/step - loss: 80316464.0000 - val_loss: 80835056.0000\n",
      "Epoch 8/15\n",
      "512/512 [==============================] - 5s 10ms/step - loss: 80219736.0000 - val_loss: 80559760.0000\n",
      "Epoch 9/15\n",
      "512/512 [==============================] - 5s 10ms/step - loss: 80183664.0000 - val_loss: 80739400.0000\n",
      "Epoch 10/15\n",
      "512/512 [==============================] - 5s 10ms/step - loss: 80084784.0000 - val_loss: 81713856.0000\n",
      "Epoch 11/15\n",
      "512/512 [==============================] - 5s 10ms/step - loss: 80037128.0000 - val_loss: 81158128.0000\n",
      "Epoch 12/15\n",
      "512/512 [==============================] - 5s 10ms/step - loss: 79940352.0000 - val_loss: 80218368.0000\n",
      "Epoch 13/15\n",
      "512/512 [==============================] - 5s 11ms/step - loss: 79894160.0000 - val_loss: 80139128.0000\n",
      "Epoch 14/15\n",
      "512/512 [==============================] - 5s 10ms/step - loss: 79723880.0000 - val_loss: 80173200.0000\n",
      "Epoch 15/15\n",
      "512/512 [==============================] - 5s 11ms/step - loss: 79656376.0000 - val_loss: 80450352.0000\n"
     ]
    },
    {
     "data": {
      "text/plain": [
       "<keras.callbacks.History at 0x16a42fcd0>"
      ]
     },
     "execution_count": 6,
     "metadata": {},
     "output_type": "execute_result"
    }
   ],
   "source": [
    "model.fit(x=X_train, y=y_train, batch_size=100, epochs=15, verbose=1, validation_data=(X_valid, y_valid))"
   ]
  },
  {
   "cell_type": "code",
   "execution_count": 7,
   "id": "479316ca",
   "metadata": {},
   "outputs": [
    {
     "name": "stdout",
     "output_type": "stream",
     "text": [
      " 55/400 [===>..........................] - ETA: 0s"
     ]
    },
    {
     "name": "stderr",
     "output_type": "stream",
     "text": [
      "2022-12-23 00:52:14.535339: I tensorflow/core/grappler/optimizers/custom_graph_optimizer_registry.cc:113] Plugin optimizer for device_type GPU is enabled.\n"
     ]
    },
    {
     "name": "stdout",
     "output_type": "stream",
     "text": [
      "400/400 [==============================] - 1s 3ms/step\n",
      "[8323.764] 6500.0\n",
      "[12107.316] 14995.0\n",
      "[12319.007] 14950.0\n",
      "[14476.541] 23500.0\n",
      "[12538.393] 12000.0\n"
     ]
    }
   ],
   "source": [
    "preds = model.predict(X_valid)\n",
    "for i in range(5):\n",
    "    print(preds[i], y_valid[i])\n",
    "        \n",
    "model.save(\"NN_model.h5\")"
   ]
  },
  {
   "cell_type": "code",
   "execution_count": null,
   "id": "d3cc456e",
   "metadata": {},
   "outputs": [],
   "source": [
    "# Load libraries\n",
    "import pandas as pd\n",
    "from sklearn.tree import DecisionTreeClassifier # Import Decision Tree Classifier\n",
    "from sklearn.model_selection import train_test_split # Import train_test_split function\n",
    "from sklearn import metrics #Import scikit-learn metrics module for accuracy calculation\n",
    "\n",
    "# Create Decision Tree classifer object\n",
    "clf = DecisionTreeClassifier()\n",
    "\n",
    "# Train Decision Tree Classifer\n",
    "clf = clf.fit(X_train,y_train)\n",
    "\n",
    "# Predict the response for test dataset\n",
    "preds = clf.predict(X_valid)\n",
    "\n",
    "import joblib\n",
    "# Export model\n",
    "\n",
    "# Basically, this model is too large to upload in github, but trains extremely quickly.\n",
    "# Thus, in the app.py file, the model is just trained every time the app starts up instead of storing the model\n",
    "# in permanent storage\n",
    "joblib.dump(clf, \"decision_tree.pkl\") \n",
    "\n"
   ]
  },
  {
   "cell_type": "code",
   "execution_count": null,
   "id": "471f8299",
   "metadata": {},
   "outputs": [],
   "source": []
  }
 ],
 "metadata": {
  "kernelspec": {
   "display_name": "Python 3 (ipykernel)",
   "language": "python",
   "name": "python3"
  },
  "language_info": {
   "codemirror_mode": {
    "name": "ipython",
    "version": 3
   },
   "file_extension": ".py",
   "mimetype": "text/x-python",
   "name": "python",
   "nbconvert_exporter": "python",
   "pygments_lexer": "ipython3",
   "version": "3.10.5"
  },
  "vscode": {
   "interpreter": {
    "hash": "3a9da6eb0ba1af7ba75b6c53796da44ca68271d5b8ded23df7ea2b9af7f41496"
   }
  }
 },
 "nbformat": 4,
 "nbformat_minor": 5
}
