{
 "cells": [
  {
   "cell_type": "code",
   "execution_count": 3,
   "id": "62d5d5d4",
   "metadata": {},
   "outputs": [],
   "source": [
    "from tensorflow import keras as ks\n",
    "import sklearn\n",
    "import numpy as np\n",
    "import pandas as pd\n",
    "import matplotlib.pyplot as plt\n",
    "from sklearn.model_selection import train_test_split"
   ]
  },
  {
   "cell_type": "code",
   "execution_count": 4,
   "id": "77d7bfca",
   "metadata": {},
   "outputs": [
    {
     "data": {
      "text/html": [
       "<div>\n",
       "<style scoped>\n",
       "    .dataframe tbody tr th:only-of-type {\n",
       "        vertical-align: middle;\n",
       "    }\n",
       "\n",
       "    .dataframe tbody tr th {\n",
       "        vertical-align: top;\n",
       "    }\n",
       "\n",
       "    .dataframe thead th {\n",
       "        text-align: right;\n",
       "    }\n",
       "</style>\n",
       "<table border=\"1\" class=\"dataframe\">\n",
       "  <thead>\n",
       "    <tr style=\"text-align: right;\">\n",
       "      <th></th>\n",
       "      <th>region</th>\n",
       "      <th>price</th>\n",
       "      <th>year</th>\n",
       "      <th>manufacturer</th>\n",
       "      <th>model</th>\n",
       "      <th>condition</th>\n",
       "      <th>cylinders</th>\n",
       "      <th>fuel</th>\n",
       "      <th>odometer</th>\n",
       "      <th>transmission</th>\n",
       "      <th>drive</th>\n",
       "      <th>size</th>\n",
       "      <th>type</th>\n",
       "      <th>paint_color</th>\n",
       "      <th>state</th>\n",
       "      <th>posting_date</th>\n",
       "      <th>income_this_year</th>\n",
       "    </tr>\n",
       "  </thead>\n",
       "  <tbody>\n",
       "    <tr>\n",
       "      <th>0</th>\n",
       "      <td>auburn</td>\n",
       "      <td>15000.0</td>\n",
       "      <td>2013</td>\n",
       "      <td>ford</td>\n",
       "      <td>f-150 xlt</td>\n",
       "      <td>excellent</td>\n",
       "      <td>6 cylinders</td>\n",
       "      <td>gas</td>\n",
       "      <td>128000</td>\n",
       "      <td>automatic</td>\n",
       "      <td>rwd</td>\n",
       "      <td>full-size</td>\n",
       "      <td>truck</td>\n",
       "      <td>black</td>\n",
       "      <td>AL</td>\n",
       "      <td>2021</td>\n",
       "      <td>49769.0</td>\n",
       "    </tr>\n",
       "    <tr>\n",
       "      <th>1</th>\n",
       "      <td>auburn</td>\n",
       "      <td>19900.0</td>\n",
       "      <td>2004</td>\n",
       "      <td>ford</td>\n",
       "      <td>f250 super duty</td>\n",
       "      <td>good</td>\n",
       "      <td>8 cylinders</td>\n",
       "      <td>diesel</td>\n",
       "      <td>88000</td>\n",
       "      <td>automatic</td>\n",
       "      <td>4wd</td>\n",
       "      <td>full-size</td>\n",
       "      <td>pickup</td>\n",
       "      <td>blue</td>\n",
       "      <td>AL</td>\n",
       "      <td>2021</td>\n",
       "      <td>49769.0</td>\n",
       "    </tr>\n",
       "    <tr>\n",
       "      <th>2</th>\n",
       "      <td>auburn</td>\n",
       "      <td>14000.0</td>\n",
       "      <td>2012</td>\n",
       "      <td>honda</td>\n",
       "      <td>odyssey</td>\n",
       "      <td>excellent</td>\n",
       "      <td>6 cylinders</td>\n",
       "      <td>gas</td>\n",
       "      <td>95000</td>\n",
       "      <td>automatic</td>\n",
       "      <td>fwd</td>\n",
       "      <td>full-size</td>\n",
       "      <td>mini-van</td>\n",
       "      <td>silver</td>\n",
       "      <td>AL</td>\n",
       "      <td>2021</td>\n",
       "      <td>49769.0</td>\n",
       "    </tr>\n",
       "    <tr>\n",
       "      <th>3</th>\n",
       "      <td>auburn</td>\n",
       "      <td>22500.0</td>\n",
       "      <td>2001</td>\n",
       "      <td>ford</td>\n",
       "      <td>f450</td>\n",
       "      <td>good</td>\n",
       "      <td>8 cylinders</td>\n",
       "      <td>diesel</td>\n",
       "      <td>144700</td>\n",
       "      <td>manual</td>\n",
       "      <td>rwd</td>\n",
       "      <td>full-size</td>\n",
       "      <td>truck</td>\n",
       "      <td>white</td>\n",
       "      <td>AL</td>\n",
       "      <td>2021</td>\n",
       "      <td>49769.0</td>\n",
       "    </tr>\n",
       "    <tr>\n",
       "      <th>4</th>\n",
       "      <td>auburn</td>\n",
       "      <td>15000.0</td>\n",
       "      <td>2017</td>\n",
       "      <td>dodge</td>\n",
       "      <td>charger rt 4dr sedan</td>\n",
       "      <td>excellent</td>\n",
       "      <td>8 cylinders</td>\n",
       "      <td>gas</td>\n",
       "      <td>90000</td>\n",
       "      <td>automatic</td>\n",
       "      <td>rwd</td>\n",
       "      <td>mid-size</td>\n",
       "      <td>sedan</td>\n",
       "      <td>grey</td>\n",
       "      <td>AL</td>\n",
       "      <td>2021</td>\n",
       "      <td>49769.0</td>\n",
       "    </tr>\n",
       "    <tr>\n",
       "      <th>...</th>\n",
       "      <td>...</td>\n",
       "      <td>...</td>\n",
       "      <td>...</td>\n",
       "      <td>...</td>\n",
       "      <td>...</td>\n",
       "      <td>...</td>\n",
       "      <td>...</td>\n",
       "      <td>...</td>\n",
       "      <td>...</td>\n",
       "      <td>...</td>\n",
       "      <td>...</td>\n",
       "      <td>...</td>\n",
       "      <td>...</td>\n",
       "      <td>...</td>\n",
       "      <td>...</td>\n",
       "      <td>...</td>\n",
       "      <td>...</td>\n",
       "    </tr>\n",
       "    <tr>\n",
       "      <th>86304</th>\n",
       "      <td>wyoming</td>\n",
       "      <td>18000.0</td>\n",
       "      <td>1990</td>\n",
       "      <td>jeep</td>\n",
       "      <td>gand wagoneer</td>\n",
       "      <td>good</td>\n",
       "      <td>8 cylinders</td>\n",
       "      <td>gas</td>\n",
       "      <td>114400</td>\n",
       "      <td>automatic</td>\n",
       "      <td>4wd</td>\n",
       "      <td>full-size</td>\n",
       "      <td>SUV</td>\n",
       "      <td>black</td>\n",
       "      <td>WY</td>\n",
       "      <td>2021</td>\n",
       "      <td>59626.0</td>\n",
       "    </tr>\n",
       "    <tr>\n",
       "      <th>86305</th>\n",
       "      <td>wyoming</td>\n",
       "      <td>9800.0</td>\n",
       "      <td>1985</td>\n",
       "      <td>nissan</td>\n",
       "      <td>300zx coupe with t-tops</td>\n",
       "      <td>like new</td>\n",
       "      <td>6 cylinders</td>\n",
       "      <td>gas</td>\n",
       "      <td>115000</td>\n",
       "      <td>automatic</td>\n",
       "      <td>rwd</td>\n",
       "      <td>sub-compact</td>\n",
       "      <td>hatchback</td>\n",
       "      <td>red</td>\n",
       "      <td>WY</td>\n",
       "      <td>2021</td>\n",
       "      <td>59626.0</td>\n",
       "    </tr>\n",
       "    <tr>\n",
       "      <th>86306</th>\n",
       "      <td>wyoming</td>\n",
       "      <td>6800.0</td>\n",
       "      <td>1997</td>\n",
       "      <td>jaguar</td>\n",
       "      <td>xk8 convertible</td>\n",
       "      <td>good</td>\n",
       "      <td>8 cylinders</td>\n",
       "      <td>gas</td>\n",
       "      <td>69550</td>\n",
       "      <td>automatic</td>\n",
       "      <td>rwd</td>\n",
       "      <td>compact</td>\n",
       "      <td>convertible</td>\n",
       "      <td>white</td>\n",
       "      <td>WY</td>\n",
       "      <td>2021</td>\n",
       "      <td>59626.0</td>\n",
       "    </tr>\n",
       "    <tr>\n",
       "      <th>86307</th>\n",
       "      <td>wyoming</td>\n",
       "      <td>0.0</td>\n",
       "      <td>2018</td>\n",
       "      <td>ram</td>\n",
       "      <td>2500</td>\n",
       "      <td>excellent</td>\n",
       "      <td>6 cylinders</td>\n",
       "      <td>diesel</td>\n",
       "      <td>20492</td>\n",
       "      <td>automatic</td>\n",
       "      <td>4wd</td>\n",
       "      <td>full-size</td>\n",
       "      <td>truck</td>\n",
       "      <td>white</td>\n",
       "      <td>WY</td>\n",
       "      <td>2021</td>\n",
       "      <td>59626.0</td>\n",
       "    </tr>\n",
       "    <tr>\n",
       "      <th>86308</th>\n",
       "      <td>wyoming</td>\n",
       "      <td>21900.0</td>\n",
       "      <td>1920</td>\n",
       "      <td>NaN</td>\n",
       "      <td>Paige Glenbrook Touring</td>\n",
       "      <td>good</td>\n",
       "      <td>6 cylinders</td>\n",
       "      <td>gas</td>\n",
       "      <td>11065</td>\n",
       "      <td>manual</td>\n",
       "      <td>rwd</td>\n",
       "      <td>full-size</td>\n",
       "      <td>other</td>\n",
       "      <td>black</td>\n",
       "      <td>WY</td>\n",
       "      <td>2021</td>\n",
       "      <td>59626.0</td>\n",
       "    </tr>\n",
       "  </tbody>\n",
       "</table>\n",
       "<p>86309 rows × 17 columns</p>\n",
       "</div>"
      ],
      "text/plain": [
       "        region    price  year manufacturer                    model  \\\n",
       "0       auburn  15000.0  2013         ford                f-150 xlt   \n",
       "1       auburn  19900.0  2004         ford          f250 super duty   \n",
       "2       auburn  14000.0  2012        honda                  odyssey   \n",
       "3       auburn  22500.0  2001         ford                     f450   \n",
       "4       auburn  15000.0  2017        dodge     charger rt 4dr sedan   \n",
       "...        ...      ...   ...          ...                      ...   \n",
       "86304  wyoming  18000.0  1990         jeep            gand wagoneer   \n",
       "86305  wyoming   9800.0  1985       nissan  300zx coupe with t-tops   \n",
       "86306  wyoming   6800.0  1997       jaguar          xk8 convertible   \n",
       "86307  wyoming      0.0  2018          ram                     2500   \n",
       "86308  wyoming  21900.0  1920          NaN  Paige Glenbrook Touring   \n",
       "\n",
       "       condition    cylinders    fuel  odometer transmission drive  \\\n",
       "0      excellent  6 cylinders     gas    128000    automatic   rwd   \n",
       "1           good  8 cylinders  diesel     88000    automatic   4wd   \n",
       "2      excellent  6 cylinders     gas     95000    automatic   fwd   \n",
       "3           good  8 cylinders  diesel    144700       manual   rwd   \n",
       "4      excellent  8 cylinders     gas     90000    automatic   rwd   \n",
       "...          ...          ...     ...       ...          ...   ...   \n",
       "86304       good  8 cylinders     gas    114400    automatic   4wd   \n",
       "86305   like new  6 cylinders     gas    115000    automatic   rwd   \n",
       "86306       good  8 cylinders     gas     69550    automatic   rwd   \n",
       "86307  excellent  6 cylinders  diesel     20492    automatic   4wd   \n",
       "86308       good  6 cylinders     gas     11065       manual   rwd   \n",
       "\n",
       "              size         type paint_color state  posting_date  \\\n",
       "0        full-size        truck       black    AL          2021   \n",
       "1        full-size       pickup        blue    AL          2021   \n",
       "2        full-size     mini-van      silver    AL          2021   \n",
       "3        full-size        truck       white    AL          2021   \n",
       "4         mid-size        sedan        grey    AL          2021   \n",
       "...            ...          ...         ...   ...           ...   \n",
       "86304    full-size          SUV       black    WY          2021   \n",
       "86305  sub-compact    hatchback         red    WY          2021   \n",
       "86306      compact  convertible       white    WY          2021   \n",
       "86307    full-size        truck       white    WY          2021   \n",
       "86308    full-size        other       black    WY          2021   \n",
       "\n",
       "       income_this_year  \n",
       "0               49769.0  \n",
       "1               49769.0  \n",
       "2               49769.0  \n",
       "3               49769.0  \n",
       "4               49769.0  \n",
       "...                 ...  \n",
       "86304           59626.0  \n",
       "86305           59626.0  \n",
       "86306           59626.0  \n",
       "86307           59626.0  \n",
       "86308           59626.0  \n",
       "\n",
       "[86309 rows x 17 columns]"
      ]
     },
     "execution_count": 4,
     "metadata": {},
     "output_type": "execute_result"
    }
   ],
   "source": [
    "EDA_data = pd.read_csv('with_income.csv')\n",
    "EDA_data"
   ]
  },
  {
   "cell_type": "markdown",
   "id": "3fb392d9",
   "metadata": {},
   "source": [
    "Exploratory Data Analysis "
   ]
  },
  {
   "cell_type": "code",
   "execution_count": 5,
   "id": "cd54b4c9",
   "metadata": {},
   "outputs": [
    {
     "name": "stderr",
     "output_type": "stream",
     "text": [
      "/var/folders/v2/ct67bgdd55x221sfv_qy4jvw0000gn/T/ipykernel_57841/3857411707.py:3: FutureWarning: this method is deprecated in favour of `Styler.format(precision=..)`\n",
      "  corr.style.background_gradient(cmap='coolwarm').set_precision(2)\n"
     ]
    },
    {
     "data": {
      "text/html": [
       "<style type=\"text/css\">\n",
       "#T_d1719_row0_col0, #T_d1719_row1_col1, #T_d1719_row2_col2, #T_d1719_row3_col3 {\n",
       "  background-color: #b40426;\n",
       "  color: #f1f1f1;\n",
       "}\n",
       "#T_d1719_row0_col1, #T_d1719_row3_col1 {\n",
       "  background-color: #506bda;\n",
       "  color: #f1f1f1;\n",
       "}\n",
       "#T_d1719_row0_col2 {\n",
       "  background-color: #516ddb;\n",
       "  color: #f1f1f1;\n",
       "}\n",
       "#T_d1719_row0_col3, #T_d1719_row1_col3 {\n",
       "  background-color: #3e51c5;\n",
       "  color: #f1f1f1;\n",
       "}\n",
       "#T_d1719_row1_col0, #T_d1719_row1_col2, #T_d1719_row2_col0, #T_d1719_row2_col1, #T_d1719_row2_col3, #T_d1719_row3_col0 {\n",
       "  background-color: #3b4cc0;\n",
       "  color: #f1f1f1;\n",
       "}\n",
       "#T_d1719_row3_col2 {\n",
       "  background-color: #4c66d6;\n",
       "  color: #f1f1f1;\n",
       "}\n",
       "</style>\n",
       "<table id=\"T_d1719\">\n",
       "  <thead>\n",
       "    <tr>\n",
       "      <th class=\"blank level0\" >&nbsp;</th>\n",
       "      <th id=\"T_d1719_level0_col0\" class=\"col_heading level0 col0\" >price</th>\n",
       "      <th id=\"T_d1719_level0_col1\" class=\"col_heading level0 col1\" >year</th>\n",
       "      <th id=\"T_d1719_level0_col2\" class=\"col_heading level0 col2\" >odometer</th>\n",
       "      <th id=\"T_d1719_level0_col3\" class=\"col_heading level0 col3\" >income_this_year</th>\n",
       "    </tr>\n",
       "  </thead>\n",
       "  <tbody>\n",
       "    <tr>\n",
       "      <th id=\"T_d1719_level0_row0\" class=\"row_heading level0 row0\" >price</th>\n",
       "      <td id=\"T_d1719_row0_col0\" class=\"data row0 col0\" >1.00</td>\n",
       "      <td id=\"T_d1719_row0_col1\" class=\"data row0 col1\" >-0.00</td>\n",
       "      <td id=\"T_d1719_row0_col2\" class=\"data row0 col2\" >0.00</td>\n",
       "      <td id=\"T_d1719_row0_col3\" class=\"data row0 col3\" >-0.00</td>\n",
       "    </tr>\n",
       "    <tr>\n",
       "      <th id=\"T_d1719_level0_row1\" class=\"row_heading level0 row1\" >year</th>\n",
       "      <td id=\"T_d1719_row1_col0\" class=\"data row1 col0\" >-0.00</td>\n",
       "      <td id=\"T_d1719_row1_col1\" class=\"data row1 col1\" >1.00</td>\n",
       "      <td id=\"T_d1719_row1_col2\" class=\"data row1 col2\" >-0.08</td>\n",
       "      <td id=\"T_d1719_row1_col3\" class=\"data row1 col3\" >-0.00</td>\n",
       "    </tr>\n",
       "    <tr>\n",
       "      <th id=\"T_d1719_level0_row2\" class=\"row_heading level0 row2\" >odometer</th>\n",
       "      <td id=\"T_d1719_row2_col0\" class=\"data row2 col0\" >0.00</td>\n",
       "      <td id=\"T_d1719_row2_col1\" class=\"data row2 col1\" >-0.08</td>\n",
       "      <td id=\"T_d1719_row2_col2\" class=\"data row2 col2\" >1.00</td>\n",
       "      <td id=\"T_d1719_row2_col3\" class=\"data row2 col3\" >-0.02</td>\n",
       "    </tr>\n",
       "    <tr>\n",
       "      <th id=\"T_d1719_level0_row3\" class=\"row_heading level0 row3\" >income_this_year</th>\n",
       "      <td id=\"T_d1719_row3_col0\" class=\"data row3 col0\" >-0.00</td>\n",
       "      <td id=\"T_d1719_row3_col1\" class=\"data row3 col1\" >-0.00</td>\n",
       "      <td id=\"T_d1719_row3_col2\" class=\"data row3 col2\" >-0.02</td>\n",
       "      <td id=\"T_d1719_row3_col3\" class=\"data row3 col3\" >1.00</td>\n",
       "    </tr>\n",
       "  </tbody>\n",
       "</table>\n"
      ],
      "text/plain": [
       "<pandas.io.formats.style.Styler at 0x16b9af6a0>"
      ]
     },
     "execution_count": 5,
     "metadata": {},
     "output_type": "execute_result"
    }
   ],
   "source": [
    "corr = EDA_data[['region','price','year','manufacturer', 'model', 'condition', 'cylinders', 'fuel', 'odometer', \\\n",
    "                'transmission', 'drive', 'size', 'type', 'paint_color', 'state', 'income_this_year']].corr()\n",
    "corr.style.background_gradient(cmap='coolwarm').set_precision(2)"
   ]
  },
  {
   "cell_type": "code",
   "execution_count": 6,
   "id": "0a3f6f04",
   "metadata": {},
   "outputs": [
    {
     "name": "stdout",
     "output_type": "stream",
     "text": [
      "count        86309\n",
      "unique         404\n",
      "top       columbus\n",
      "freq          1116\n",
      "Name: region, dtype: object\n"
     ]
    },
    {
     "data": {
      "text/plain": [
       "Text(0.5, 1.0, 'Top 30 Cities in Dataset')"
      ]
     },
     "execution_count": 6,
     "metadata": {},
     "output_type": "execute_result"
    },
    {
     "data": {
      "image/png": "[encoded data removed]",
      "text/plain": [
       "<Figure size 432x288 with 1 Axes>"
      ]
     },
     "metadata": {
      "needs_background": "light"
     },
     "output_type": "display_data"
    }
   ],
   "source": [
    "print(EDA_data.region.describe())\n",
    "EDA_data['region'].value_counts().sort_values(ascending=0)[:30].plot(kind='bar')\n",
    "plt.title(\"Top 30 Cities in Dataset\")"
   ]
  },
  {
   "cell_type": "code",
   "execution_count": 7,
   "id": "099db18e",
   "metadata": {},
   "outputs": [
    {
     "name": "stdout",
     "output_type": "stream",
     "text": [
      "count        86309\n",
      "unique         404\n",
      "top       columbus\n",
      "freq          1116\n",
      "Name: region, dtype: object\n"
     ]
    },
    {
     "data": {
      "text/plain": [
       "Text(0.5, 1.0, 'Prices')"
      ]
     },
     "execution_count": 7,
     "metadata": {},
     "output_type": "execute_result"
    },
    {
     "data": {
      "image/png": "[encoded data removed]",
      "text/plain": [
       "<Figure size 432x288 with 1 Axes>"
      ]
     },
     "metadata": {
      "needs_background": "light"
     },
     "output_type": "display_data"
    }
   ],
   "source": [
    "print(EDA_data.region.describe())\n",
    "EDA_data['price'].value_counts().sort_values(ascending=0)[:30].plot(kind='line')\n",
    "plt.title(\"Prices\")"
   ]
  },
  {
   "cell_type": "code",
   "execution_count": 8,
   "id": "a1b90821",
   "metadata": {},
   "outputs": [
    {
     "name": "stdout",
     "output_type": "stream",
     "text": [
      "count    86309.000000\n",
      "mean      2007.813403\n",
      "std         11.123597\n",
      "min       1900.000000\n",
      "25%       2005.000000\n",
      "50%       2010.000000\n",
      "75%       2014.000000\n",
      "max       2022.000000\n",
      "Name: year, dtype: float64\n"
     ]
    },
    {
     "data": {
      "text/plain": [
       "Text(0.5, 1.0, 'Top 30 Years in Dataset')"
      ]
     },
     "execution_count": 8,
     "metadata": {},
     "output_type": "execute_result"
    },
    {
     "data": {
      "image/png": "[encoded data removed]",
      "text/plain": [
       "<Figure size 432x288 with 1 Axes>"
      ]
     },
     "metadata": {
      "needs_background": "light"
     },
     "output_type": "display_data"
    }
   ],
   "source": [
    "print(EDA_data.year.describe())\n",
    "EDA_data['year'].value_counts().sort_values(ascending=0)[:30].plot(kind='bar')\n",
    "plt.title(\"Top 30 Years in Dataset\")"
   ]
  },
  {
   "cell_type": "code",
   "execution_count": 9,
   "id": "9305a3f7",
   "metadata": {},
   "outputs": [
    {
     "name": "stdout",
     "output_type": "stream",
     "text": [
      "count     82120\n",
      "unique       41\n",
      "top        ford\n",
      "freq      16112\n",
      "Name: manufacturer, dtype: object\n"
     ]
    },
    {
     "data": {
      "text/plain": [
       "'\\naston-martin\\nland rover\\ndatsun\\nferrari\\nalfa-romeo\\ntesla\\nharley-davidson\\ndiat\\njaguar\\nporsche\\nsaturn\\nrover\\nmercury\\nmini\\nmitsubishi\\nvolvo\\ninfiniti\\n\\n'"
      ]
     },
     "execution_count": 9,
     "metadata": {},
     "output_type": "execute_result"
    },
    {
     "data": {
      "image/png": "[encoded data removed]",
      "text/plain": [
       "<Figure size 432x288 with 1 Axes>"
      ]
     },
     "metadata": {
      "needs_background": "light"
     },
     "output_type": "display_data"
    }
   ],
   "source": [
    "print(EDA_data.manufacturer.describe())\n",
    "EDA_data['manufacturer'].value_counts().sort_values(ascending=0).plot(kind='bar')\n",
    "plt.title(\"Top 30 Manufacturers in Dataset\")\n",
    "\n",
    "\"\"\"\n",
    "aston-martin\n",
    "land rover\n",
    "datsun\n",
    "ferrari\n",
    "alfa-romeo\n",
    "tesla\n",
    "harley-davidson\n",
    "diat\n",
    "jaguar\n",
    "porsche\n",
    "saturn\n",
    "rover\n",
    "mercury\n",
    "mini\n",
    "mitsubishi\n",
    "volvo\n",
    "infiniti\n",
    "\n",
    "\"\"\""
   ]
  },
  {
   "cell_type": "code",
   "execution_count": 10,
   "id": "15751610",
   "metadata": {},
   "outputs": [
    {
     "name": "stdout",
     "output_type": "stream",
     "text": [
      "count         86309\n",
      "unique            6\n",
      "top       excellent\n",
      "freq          42547\n",
      "Name: condition, dtype: object\n"
     ]
    },
    {
     "data": {
      "text/plain": [
       "Text(0.5, 1.0, 'Conditions in Dataset')"
      ]
     },
     "execution_count": 10,
     "metadata": {},
     "output_type": "execute_result"
    },
    {
     "data": {
      "image/png": "[encoded data removed]",
      "text/plain": [
       "<Figure size 432x288 with 1 Axes>"
      ]
     },
     "metadata": {
      "needs_background": "light"
     },
     "output_type": "display_data"
    }
   ],
   "source": [
    "print(EDA_data.condition.describe())\n",
    "EDA_data['condition'].value_counts().sort_values(ascending=0).plot(kind='bar')\n",
    "plt.title(\"Conditions in Dataset\")"
   ]
  },
  {
   "cell_type": "code",
   "execution_count": 11,
   "id": "e675f523",
   "metadata": {},
   "outputs": [
    {
     "name": "stdout",
     "output_type": "stream",
     "text": [
      "count           86309\n",
      "unique              8\n",
      "top       6 cylinders\n",
      "freq            29290\n",
      "Name: cylinders, dtype: object\n"
     ]
    },
    {
     "data": {
      "text/plain": [
       "Text(0.5, 1.0, 'Cylinder Counts in Dataset')"
      ]
     },
     "execution_count": 11,
     "metadata": {},
     "output_type": "execute_result"
    },
    {
     "data": {
      "image/png": "[encoded data removed]",
      "text/plain": [
       "<Figure size 432x288 with 1 Axes>"
      ]
     },
     "metadata": {
      "needs_background": "light"
     },
     "output_type": "display_data"
    }
   ],
   "source": [
    "print(EDA_data.cylinders.describe())\n",
    "EDA_data['cylinders'].value_counts().sort_values(ascending=0).plot(kind='bar')\n",
    "plt.title(\"Cylinder Counts in Dataset\")"
   ]
  },
  {
   "cell_type": "code",
   "execution_count": 12,
   "id": "f5b17de9",
   "metadata": {},
   "outputs": [
    {
     "name": "stdout",
     "output_type": "stream",
     "text": [
      "count     86309\n",
      "unique        5\n",
      "top         gas\n",
      "freq      78317\n",
      "Name: fuel, dtype: object\n"
     ]
    },
    {
     "data": {
      "text/plain": [
       "Text(0.5, 1.0, 'Fuel Types in Dataset')"
      ]
     },
     "execution_count": 12,
     "metadata": {},
     "output_type": "execute_result"
    },
    {
     "data": {
      "image/png": "[encoded data removed]",
      "text/plain": [
       "<Figure size 432x288 with 1 Axes>"
      ]
     },
     "metadata": {
      "needs_background": "light"
     },
     "output_type": "display_data"
    }
   ],
   "source": [
    "print(EDA_data.fuel.describe())\n",
    "EDA_data['fuel'].value_counts().sort_values(ascending=0).plot(kind='bar')\n",
    "plt.title(\"Fuel Types in Dataset\")"
   ]
  },
  {
   "cell_type": "code",
   "execution_count": 13,
   "id": "9de373ee",
   "metadata": {},
   "outputs": [
    {
     "name": "stdout",
     "output_type": "stream",
     "text": [
      "count    8.630900e+04\n",
      "mean     1.256997e+05\n",
      "std      2.587053e+05\n",
      "min      0.000000e+00\n",
      "25%      7.224500e+04\n",
      "50%      1.134520e+05\n",
      "75%      1.559700e+05\n",
      "max      1.000000e+07\n",
      "Name: odometer, dtype: float64\n"
     ]
    },
    {
     "data": {
      "text/plain": [
       "Text(0.5, 1.0, 'Top 30 Odomoeter Readings in Dataset')"
      ]
     },
     "execution_count": 13,
     "metadata": {},
     "output_type": "execute_result"
    },
    {
     "data": {
      "image/png": "[encoded data removed]",
      "text/plain": [
       "<Figure size 432x288 with 1 Axes>"
      ]
     },
     "metadata": {
      "needs_background": "light"
     },
     "output_type": "display_data"
    }
   ],
   "source": [
    "print(EDA_data.odometer.describe())\n",
    "EDA_data['odometer'].value_counts().sort_values(ascending=0)[:30].plot(kind='bar')\n",
    "plt.title(\"Top 30 Odomoeter Readings in Dataset\")"
   ]
  },
  {
   "cell_type": "code",
   "execution_count": 14,
   "id": "6d0f36ce",
   "metadata": {},
   "outputs": [
    {
     "name": "stdout",
     "output_type": "stream",
     "text": [
      "count         86298\n",
      "unique            3\n",
      "top       automatic\n",
      "freq          78271\n",
      "Name: transmission, dtype: object\n"
     ]
    },
    {
     "data": {
      "text/plain": [
       "Text(0.5, 1.0, 'Transmission Types in Dataset')"
      ]
     },
     "execution_count": 14,
     "metadata": {},
     "output_type": "execute_result"
    },
    {
     "data": {
      "image/png": "[encoded data removed]",
      "text/plain": [
       "<Figure size 432x288 with 1 Axes>"
      ]
     },
     "metadata": {
      "needs_background": "light"
     },
     "output_type": "display_data"
    }
   ],
   "source": [
    "print(EDA_data.transmission.describe())\n",
    "EDA_data['transmission'].value_counts().sort_values(ascending=0).plot(kind='bar')\n",
    "plt.title(\"Transmission Types in Dataset\")"
   ]
  },
  {
   "cell_type": "code",
   "execution_count": 15,
   "id": "4459f04e",
   "metadata": {},
   "outputs": [
    {
     "name": "stdout",
     "output_type": "stream",
     "text": [
      "count     86309\n",
      "unique        3\n",
      "top         4wd\n",
      "freq      35394\n",
      "Name: drive, dtype: object\n"
     ]
    },
    {
     "data": {
      "text/plain": [
       "Text(0.5, 1.0, 'Drive Types in Dataset')"
      ]
     },
     "execution_count": 15,
     "metadata": {},
     "output_type": "execute_result"
    },
    {
     "data": {
      "image/png": "[encoded data removed]",
      "text/plain": [
       "<Figure size 432x288 with 1 Axes>"
      ]
     },
     "metadata": {
      "needs_background": "light"
     },
     "output_type": "display_data"
    }
   ],
   "source": [
    "print(EDA_data.drive.describe())\n",
    "EDA_data['drive'].value_counts().sort_values(ascending=0).plot(kind='bar')\n",
    "plt.title(\"Drive Types in Dataset\")"
   ]
  },
  {
   "cell_type": "code",
   "execution_count": 16,
   "id": "154097cd",
   "metadata": {},
   "outputs": [
    {
     "name": "stdout",
     "output_type": "stream",
     "text": [
      "count         86309\n",
      "unique            4\n",
      "top       full-size\n",
      "freq          48218\n",
      "Name: size, dtype: object\n"
     ]
    },
    {
     "data": {
      "text/plain": [
       "Text(0.5, 1.0, 'Sizes in Dataset')"
      ]
     },
     "execution_count": 16,
     "metadata": {},
     "output_type": "execute_result"
    },
    {
     "data": {
      "image/png": "[encoded data removed]",
      "text/plain": [
       "<Figure size 432x288 with 1 Axes>"
      ]
     },
     "metadata": {
      "needs_background": "light"
     },
     "output_type": "display_data"
    }
   ],
   "source": [
    "print(EDA_data['size'].describe())\n",
    "EDA_data['size'].value_counts().sort_values(ascending=0).plot(kind='bar')\n",
    "plt.title(\"Sizes in Dataset\")"
   ]
  },
  {
   "cell_type": "code",
   "execution_count": 17,
   "id": "82230479",
   "metadata": {},
   "outputs": [
    {
     "name": "stdout",
     "output_type": "stream",
     "text": [
      "count     84240\n",
      "unique       13\n",
      "top       sedan\n",
      "freq      22741\n",
      "Name: type, dtype: object\n"
     ]
    },
    {
     "data": {
      "text/plain": [
       "Text(0.5, 1.0, 'Car Types in Dataset')"
      ]
     },
     "execution_count": 17,
     "metadata": {},
     "output_type": "execute_result"
    },
    {
     "data": {
      "image/png": "[encoded data removed]",
      "text/plain": [
       "<Figure size 432x288 with 1 Axes>"
      ]
     },
     "metadata": {
      "needs_background": "light"
     },
     "output_type": "display_data"
    }
   ],
   "source": [
    "print(EDA_data.type.describe())\n",
    "EDA_data['type'].value_counts().sort_values(ascending=0).plot(kind='bar')\n",
    "plt.title(\"Car Types in Dataset\")"
   ]
  },
  {
   "cell_type": "code",
   "execution_count": 18,
   "id": "387d62f4",
   "metadata": {},
   "outputs": [
    {
     "name": "stdout",
     "output_type": "stream",
     "text": [
      "count     86309\n",
      "unique       12\n",
      "top       white\n",
      "freq      21591\n",
      "Name: paint_color, dtype: object\n"
     ]
    },
    {
     "data": {
      "text/plain": [
       "Text(0.5, 1.0, 'Paint Colors in Dataset')"
      ]
     },
     "execution_count": 18,
     "metadata": {},
     "output_type": "execute_result"
    },
    {
     "data": {
      "image/png": "[encoded data removed]",
      "text/plain": [
       "<Figure size 432x288 with 1 Axes>"
      ]
     },
     "metadata": {
      "needs_background": "light"
     },
     "output_type": "display_data"
    }
   ],
   "source": [
    "print(EDA_data.paint_color.describe())\n",
    "EDA_data['paint_color'].value_counts().sort_values(ascending=0).plot(kind='bar')\n",
    "plt.title(\"Paint Colors in Dataset\")"
   ]
  },
  {
   "cell_type": "code",
   "execution_count": 19,
   "id": "8743f5f9",
   "metadata": {},
   "outputs": [
    {
     "name": "stdout",
     "output_type": "stream",
     "text": [
      "count     86309\n",
      "unique       51\n",
      "top          CA\n",
      "freq       9273\n",
      "Name: state, dtype: object\n"
     ]
    },
    {
     "data": {
      "text/plain": [
       "Text(0.5, 1.0, 'Top 30 State Listings in Dataset')"
      ]
     },
     "execution_count": 19,
     "metadata": {},
     "output_type": "execute_result"
    },
    {
     "data": {
      "image/png": "[encoded data removed]",
      "text/plain": [
       "<Figure size 432x288 with 1 Axes>"
      ]
     },
     "metadata": {
      "needs_background": "light"
     },
     "output_type": "display_data"
    }
   ],
   "source": [
    "print(EDA_data.state.describe())\n",
    "EDA_data['state'].value_counts().sort_values(ascending=0)[:30].plot(kind='bar')\n",
    "plt.title(\"Top 30 State Listings in Dataset\")"
   ]
  },
  {
   "cell_type": "code",
   "execution_count": 20,
   "id": "33689a51",
   "metadata": {},
   "outputs": [
    {
     "name": "stdout",
     "output_type": "stream",
     "text": [
      "count    85786.000000\n",
      "mean     65868.049134\n",
      "std      13139.164673\n",
      "min      45881.000000\n",
      "25%      56494.000000\n",
      "50%      62270.000000\n",
      "75%      76614.000000\n",
      "max      96477.000000\n",
      "Name: income_this_year, dtype: float64\n"
     ]
    }
   ],
   "source": [
    "print(EDA_data.income_this_year.describe())"
   ]
  },
  {
   "cell_type": "markdown",
   "id": "ea7e26c1",
   "metadata": {},
   "source": [
    "\n",
    "\n",
    "One-hotted Data and Models\n",
    "\n"
   ]
  },
  {
   "cell_type": "code",
   "execution_count": 21,
   "id": "28d351a1",
   "metadata": {},
   "outputs": [
    {
     "name": "stdout",
     "output_type": "stream",
     "text": [
      "         price  year  condition  cylinders  odometer  posting_date  \\\n",
      "0      15000.0  2013         10          6    128000          2021   \n",
      "1      19900.0  2004          6          8     88000          2021   \n",
      "2      14000.0  2012         10          6     95000          2021   \n",
      "3      22500.0  2001          6          8    144700          2021   \n",
      "4      15000.0  2017         10          8     90000          2021   \n",
      "...        ...   ...        ...        ...       ...           ...   \n",
      "65798  18000.0  2005         10          8    130000          2021   \n",
      "65799  18000.0  1990          6          8    114400          2021   \n",
      "65800   9800.0  1985         15          6    115000          2021   \n",
      "65801   6800.0  1997          6          8     69550          2021   \n",
      "65802  21900.0  1920          6          6     11065          2021   \n",
      "\n",
      "       income_this_year  manufactureracura  manufactureraudi  manufacturerbmw  \\\n",
      "0                 49769                  0                 0                0   \n",
      "1                 49769                  0                 0                0   \n",
      "2                 49769                  0                 0                0   \n",
      "3                 49769                  0                 0                0   \n",
      "4                 49769                  0                 0                0   \n",
      "...                 ...                ...               ...              ...   \n",
      "65798             59626                  0                 0                0   \n",
      "65799             59626                  0                 0                0   \n",
      "65800             59626                  0                 0                0   \n",
      "65801             59626                  0                 0                0   \n",
      "65802             59626                  0                 0                0   \n",
      "\n",
      "       ...  typeSUV  typetruck  typevan  paint_colorblack  paint_colorblue  \\\n",
      "0      ...        0          1        0                 1                0   \n",
      "1      ...        0          0        0                 0                1   \n",
      "2      ...        0          0        1                 0                0   \n",
      "3      ...        0          1        0                 0                0   \n",
      "4      ...        0          0        0                 0                0   \n",
      "...    ...      ...        ...      ...               ...              ...   \n",
      "65798  ...        0          1        0                 0                1   \n",
      "65799  ...        1          0        0                 1                0   \n",
      "65800  ...        0          0        0                 0                0   \n",
      "65801  ...        0          0        0                 0                0   \n",
      "65802  ...        0          0        0                 1                0   \n",
      "\n",
      "       paint_colorgrey  paint_colorother  paint_colorred  paint_colorsilver  \\\n",
      "0                    0                 0               0                  0   \n",
      "1                    0                 0               0                  0   \n",
      "2                    0                 0               0                  1   \n",
      "3                    0                 0               0                  0   \n",
      "4                    1                 0               0                  0   \n",
      "...                ...               ...             ...                ...   \n",
      "65798                0                 0               0                  0   \n",
      "65799                0                 0               0                  0   \n",
      "65800                0                 0               1                  0   \n",
      "65801                0                 0               0                  0   \n",
      "65802                0                 0               0                  0   \n",
      "\n",
      "       paint_colorwhite  \n",
      "0                     0  \n",
      "1                     0  \n",
      "2                     0  \n",
      "3                     1  \n",
      "4                     0  \n",
      "...                 ...  \n",
      "65798                 0  \n",
      "65799                 0  \n",
      "65800                 0  \n",
      "65801                 1  \n",
      "65802                 0  \n",
      "\n",
      "[63916 rows x 65 columns]\n"
     ]
    }
   ],
   "source": [
    "one_hot_data = pd.read_csv('one_hotted_training_data.csv')\n",
    "one_hot_data = one_hot_data[one_hot_data['price'] <= 50000]\n",
    "one_hot_data = one_hot_data[one_hot_data['price'] > 500]\n",
    "#print(one_hot_data.price.describe())\n",
    "print(one_hot_data)\n",
    "\n",
    "train, test = train_test_split(one_hot_data, test_size=0.2)\n",
    "X_train = train.drop('price', axis=1).to_numpy()\n",
    "y_train = train['price'].to_numpy()\n",
    "X_valid = test.drop('price', axis=1).to_numpy()\n",
    "y_valid = test['price'].to_numpy()\n"
   ]
  },
  {
   "cell_type": "code",
   "execution_count": 22,
   "id": "a052a8fa",
   "metadata": {},
   "outputs": [
    {
     "name": "stdout",
     "output_type": "stream",
     "text": [
      "X_train Shape: (51132, 64)\n",
      "y_train Shape: (51132,)\n",
      "X_valid Shape: (12784, 64)\n",
      "y_valid Shape: (12784,)\n"
     ]
    }
   ],
   "source": [
    "\n",
    "print(\"X_train Shape:\", X_train.shape)\n",
    "print(\"y_train Shape:\", y_train.shape)\n",
    "print(\"X_valid Shape:\", X_valid.shape)\n",
    "print(\"y_valid Shape:\", y_valid.shape)"
   ]
  },
  {
   "cell_type": "code",
   "execution_count": 23,
   "id": "0f07f7c0",
   "metadata": {},
   "outputs": [
    {
     "name": "stdout",
     "output_type": "stream",
     "text": [
      "Metal device set to: Apple M1 Pro\n"
     ]
    },
    {
     "name": "stderr",
     "output_type": "stream",
     "text": [
      "2022-12-15 16:32:05.680217: I tensorflow/core/common_runtime/pluggable_device/pluggable_device_factory.cc:305] Could not identify NUMA node of platform GPU ID 0, defaulting to 0. Your kernel may not have been built with NUMA support.\n",
      "2022-12-15 16:32:05.680409: I tensorflow/core/common_runtime/pluggable_device/pluggable_device_factory.cc:271] Created TensorFlow device (/job:localhost/replica:0/task:0/device:GPU:0 with 0 MB memory) -> physical PluggableDevice (device: 0, name: METAL, pci bus id: <undefined>)\n",
      "/opt/anaconda3/envs/keras_test_env/lib/python3.10/site-packages/keras/optimizers/optimizer_v2/adam.py:110: UserWarning: The `lr` argument is deprecated, use `learning_rate` instead.\n",
      "  super(Adam, self).__init__(name, **kwargs)\n"
     ]
    }
   ],
   "source": [
    "model_in = ks.Input(shape=(X_train.shape[1], ), dtype='float32')\n",
    "\n",
    "out = ks.layers.LayerNormalization()(model_in)\n",
    "out = ks.layers.Dense(1024, activation='relu')(out)\n",
    "out = ks.layers.Dense(1024, activation='relu')(out)\n",
    "out = ks.layers.Dropout(0.2)(out)\n",
    "out = ks.layers.Dense(1024, activation='relu')(out)\n",
    "out = ks.layers.Dropout(0.2)(out)\n",
    "out = ks.layers.Dense(512, activation='relu')(out)\n",
    "out = ks.layers.Dropout(0.2)(out)\n",
    "out = ks.layers.Dense(512, activation='relu')(out)\n",
    "out = ks.layers.Dropout(0.2)(out)\n",
    "out = ks.layers.Dense(256, activation='relu')(out)\n",
    "out = ks.layers.Dropout(0.2)(out)\n",
    "out = ks.layers.Dense(128, activation='relu')(out)\n",
    "out = ks.layers.Dense(64, activation='relu')(out)\n",
    "out = ks.layers.Dense(32, activation='relu')(out)\n",
    "out = ks.layers.Dense(16, activation='relu')(out)\n",
    "out = ks.layers.Dense(1)(out)\n",
    "\n",
    "model = ks.Model(model_in, out)\n",
    "#model.summary()\n",
    "model.compile(loss='mean_squared_error', optimizer=ks.optimizers.Adam(lr=3e-5))"
   ]
  },
  {
   "cell_type": "code",
   "execution_count": 24,
   "id": "1e938ab8",
   "metadata": {
    "scrolled": false
   },
   "outputs": [
    {
     "name": "stdout",
     "output_type": "stream",
     "text": [
      "Epoch 1/15\n"
     ]
    },
    {
     "name": "stderr",
     "output_type": "stream",
     "text": [
      "2022-12-15 16:32:06.184114: W tensorflow/core/platform/profile_utils/cpu_utils.cc:128] Failed to get CPU frequency: 0 Hz\n",
      "2022-12-15 16:32:06.527540: I tensorflow/core/grappler/optimizers/custom_graph_optimizer_registry.cc:113] Plugin optimizer for device_type GPU is enabled.\n"
     ]
    },
    {
     "name": "stdout",
     "output_type": "stream",
     "text": [
      "512/512 [==============================] - ETA: 0s - loss: 136612384.0000"
     ]
    },
    {
     "name": "stderr",
     "output_type": "stream",
     "text": [
      "2022-12-15 16:32:12.777806: I tensorflow/core/grappler/optimizers/custom_graph_optimizer_registry.cc:113] Plugin optimizer for device_type GPU is enabled.\n"
     ]
    },
    {
     "name": "stdout",
     "output_type": "stream",
     "text": [
      "512/512 [==============================] - 7s 13ms/step - loss: 136612384.0000 - val_loss: 80122656.0000\n",
      "Epoch 2/15\n",
      "512/512 [==============================] - 6s 12ms/step - loss: 81440248.0000 - val_loss: 79467792.0000\n",
      "Epoch 3/15\n",
      "512/512 [==============================] - 6s 12ms/step - loss: 81178688.0000 - val_loss: 79411328.0000\n",
      "Epoch 4/15\n",
      "512/512 [==============================] - 6s 12ms/step - loss: 80950888.0000 - val_loss: 79543992.0000\n",
      "Epoch 5/15\n",
      "512/512 [==============================] - 6s 12ms/step - loss: 80810992.0000 - val_loss: 79878520.0000\n",
      "Epoch 6/15\n",
      "512/512 [==============================] - 6s 12ms/step - loss: 80769488.0000 - val_loss: 79316240.0000\n",
      "Epoch 7/15\n",
      "512/512 [==============================] - 6s 12ms/step - loss: 80738320.0000 - val_loss: 79281872.0000\n",
      "Epoch 8/15\n",
      "512/512 [==============================] - 6s 13ms/step - loss: 80602936.0000 - val_loss: 79060992.0000\n",
      "Epoch 9/15\n",
      "512/512 [==============================] - 6s 12ms/step - loss: 80515424.0000 - val_loss: 79099528.0000\n",
      "Epoch 10/15\n",
      "512/512 [==============================] - 6s 12ms/step - loss: 80510904.0000 - val_loss: 78967808.0000\n",
      "Epoch 11/15\n",
      "512/512 [==============================] - 6s 12ms/step - loss: 80333584.0000 - val_loss: 79089352.0000\n",
      "Epoch 12/15\n",
      "512/512 [==============================] - 6s 12ms/step - loss: 80329560.0000 - val_loss: 79176336.0000\n",
      "Epoch 13/15\n",
      "512/512 [==============================] - 6s 12ms/step - loss: 80189592.0000 - val_loss: 78673728.0000\n",
      "Epoch 14/15\n",
      "512/512 [==============================] - 6s 12ms/step - loss: 80097792.0000 - val_loss: 78604736.0000\n",
      "Epoch 15/15\n",
      "512/512 [==============================] - 6s 12ms/step - loss: 80018872.0000 - val_loss: 78771224.0000\n"
     ]
    },
    {
     "data": {
      "text/plain": [
       "<keras.callbacks.History at 0x286217970>"
      ]
     },
     "execution_count": 24,
     "metadata": {},
     "output_type": "execute_result"
    }
   ],
   "source": [
    "\n",
    "model.fit(x=X_train, y=y_train, batch_size=100, epochs=15, verbose=1, validation_data=(X_valid, y_valid))"
   ]
  },
  {
   "cell_type": "code",
   "execution_count": 25,
   "id": "479316ca",
   "metadata": {},
   "outputs": [
    {
     "name": "stdout",
     "output_type": "stream",
     "text": [
      " 50/400 [==>...........................] - ETA: 1s"
     ]
    },
    {
     "name": "stderr",
     "output_type": "stream",
     "text": [
      "2022-12-15 16:33:41.886891: I tensorflow/core/grappler/optimizers/custom_graph_optimizer_registry.cc:113] Plugin optimizer for device_type GPU is enabled.\n"
     ]
    },
    {
     "name": "stdout",
     "output_type": "stream",
     "text": [
      "400/400 [==============================] - 1s 3ms/step\n",
      "[12214.4375] 8999.0\n",
      "[10284.201] 13599.0\n",
      "[10593.426] 7400.0\n",
      "[8642.625] 8500.0\n",
      "[8998.334] 3200.0\n"
     ]
    }
   ],
   "source": [
    "preds = model.predict(X_valid)\n",
    "for i in range(5):\n",
    "    print(preds[i], y_valid[i])\n",
    "        \n",
    "model.save(\"Overall.h5\")"
   ]
  },
  {
   "cell_type": "code",
   "execution_count": null,
   "id": "d3cc456e",
   "metadata": {},
   "outputs": [],
   "source": [
    "# Load libraries\n",
    "import pandas as pd\n",
    "from sklearn.tree import DecisionTreeClassifier # Import Decision Tree Classifier\n",
    "from sklearn.model_selection import train_test_split # Import train_test_split function\n",
    "from sklearn import metrics #Import scikit-learn metrics module for accuracy calculation\n",
    "\n"
   ]
  },
  {
   "cell_type": "code",
   "execution_count": null,
   "id": "fc26a666",
   "metadata": {},
   "outputs": [],
   "source": [
    "# Create Decision Tree classifer object\n",
    "clf = DecisionTreeClassifier()\n",
    "\n",
    "# Train Decision Tree Classifer\n",
    "clf = clf.fit(X_train,y_train)\n",
    "\n",
    "#Predict the response for test dataset\n",
    "preds = clf.predict(X_valid)"
   ]
  },
  {
   "cell_type": "code",
   "execution_count": null,
   "id": "4900bc94",
   "metadata": {
    "scrolled": false
   },
   "outputs": [],
   "source": [
    "for i in range(50):\n",
    "    print(preds[i], y_valid[i])"
   ]
  },
  {
   "cell_type": "code",
   "execution_count": null,
   "id": "5584eee3",
   "metadata": {},
   "outputs": [],
   "source": [
    "import joblib\n",
    "joblib.dump(clf, \"decision_tree.pkl\") \n"
   ]
  },
  {
   "cell_type": "code",
   "execution_count": null,
   "id": "12e36f4d",
   "metadata": {},
   "outputs": [],
   "source": []
  },
  {
   "cell_type": "code",
   "execution_count": null,
   "id": "471f8299",
   "metadata": {},
   "outputs": [],
   "source": []
  }
 ],
 "metadata": {
  "kernelspec": {
   "display_name": "keras_test_env",
   "language": "python",
   "name": "python3"
  },
  "language_info": {
   "codemirror_mode": {
    "name": "ipython",
    "version": 3
   },
   "file_extension": ".py",
   "mimetype": "text/x-python",
   "name": "python",
   "nbconvert_exporter": "python",
   "pygments_lexer": "ipython3",
   "version": "3.10.5 | packaged by conda-forge | (main, Jun 14 2022, 07:07:06) [Clang 13.0.1 ]"
  },
  "vscode": {
   "interpreter": {
    "hash": "3a9da6eb0ba1af7ba75b6c53796da44ca68271d5b8ded23df7ea2b9af7f41496"
   }
  }
 },
 "nbformat": 4,
 "nbformat_minor": 5
}
