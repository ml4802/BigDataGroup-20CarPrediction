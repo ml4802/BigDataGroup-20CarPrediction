{
 "cells": [
  {
   "cell_type": "code",
   "execution_count": 7,
   "id": "06aaa158",
   "metadata": {},
   "outputs": [],
   "source": [
    "from tensorflow import keras as ks\n",
    "import sklearn\n",
    "import numpy as np\n",
    "import pandas as pd\n",
    "import matplotlib.pyplot as plt\n",
    "from sklearn.model_selection import train_test_split"
   ]
  },
  {
   "cell_type": "code",
   "execution_count": 8,
   "id": "7e45f4bf",
   "metadata": {},
   "outputs": [
    {
     "data": {
      "text/html": [
       "<div>\n",
       "<style scoped>\n",
       "    .dataframe tbody tr th:only-of-type {\n",
       "        vertical-align: middle;\n",
       "    }\n",
       "\n",
       "    .dataframe tbody tr th {\n",
       "        vertical-align: top;\n",
       "    }\n",
       "\n",
       "    .dataframe thead th {\n",
       "        text-align: right;\n",
       "    }\n",
       "</style>\n",
       "<table border=\"1\" class=\"dataframe\">\n",
       "  <thead>\n",
       "    <tr style=\"text-align: right;\">\n",
       "      <th></th>\n",
       "      <th>price</th>\n",
       "      <th>year</th>\n",
       "      <th>odometer</th>\n",
       "      <th>posting_date</th>\n",
       "      <th>income_this_year</th>\n",
       "    </tr>\n",
       "  </thead>\n",
       "  <tbody>\n",
       "    <tr>\n",
       "      <th>count</th>\n",
       "      <td>8.630900e+04</td>\n",
       "      <td>86309.000000</td>\n",
       "      <td>8.630900e+04</td>\n",
       "      <td>86309.0</td>\n",
       "      <td>85786.000000</td>\n",
       "    </tr>\n",
       "    <tr>\n",
       "      <th>mean</th>\n",
       "      <td>1.183463e+05</td>\n",
       "      <td>2007.813403</td>\n",
       "      <td>1.256997e+05</td>\n",
       "      <td>2021.0</td>\n",
       "      <td>65868.049134</td>\n",
       "    </tr>\n",
       "    <tr>\n",
       "      <th>std</th>\n",
       "      <td>1.839753e+07</td>\n",
       "      <td>11.123597</td>\n",
       "      <td>2.587053e+05</td>\n",
       "      <td>0.0</td>\n",
       "      <td>13139.164673</td>\n",
       "    </tr>\n",
       "    <tr>\n",
       "      <th>min</th>\n",
       "      <td>0.000000e+00</td>\n",
       "      <td>1900.000000</td>\n",
       "      <td>0.000000e+00</td>\n",
       "      <td>2021.0</td>\n",
       "      <td>45881.000000</td>\n",
       "    </tr>\n",
       "    <tr>\n",
       "      <th>25%</th>\n",
       "      <td>4.950000e+03</td>\n",
       "      <td>2005.000000</td>\n",
       "      <td>7.224500e+04</td>\n",
       "      <td>2021.0</td>\n",
       "      <td>56494.000000</td>\n",
       "    </tr>\n",
       "    <tr>\n",
       "      <th>50%</th>\n",
       "      <td>9.000000e+03</td>\n",
       "      <td>2010.000000</td>\n",
       "      <td>1.134520e+05</td>\n",
       "      <td>2021.0</td>\n",
       "      <td>62270.000000</td>\n",
       "    </tr>\n",
       "    <tr>\n",
       "      <th>75%</th>\n",
       "      <td>1.790000e+04</td>\n",
       "      <td>2014.000000</td>\n",
       "      <td>1.559700e+05</td>\n",
       "      <td>2021.0</td>\n",
       "      <td>76614.000000</td>\n",
       "    </tr>\n",
       "    <tr>\n",
       "      <th>max</th>\n",
       "      <td>3.736929e+09</td>\n",
       "      <td>2022.000000</td>\n",
       "      <td>1.000000e+07</td>\n",
       "      <td>2021.0</td>\n",
       "      <td>96477.000000</td>\n",
       "    </tr>\n",
       "  </tbody>\n",
       "</table>\n",
       "</div>"
      ],
      "text/plain": [
       "              price          year      odometer  posting_date  \\\n",
       "count  8.630900e+04  86309.000000  8.630900e+04       86309.0   \n",
       "mean   1.183463e+05   2007.813403  1.256997e+05        2021.0   \n",
       "std    1.839753e+07     11.123597  2.587053e+05           0.0   \n",
       "min    0.000000e+00   1900.000000  0.000000e+00        2021.0   \n",
       "25%    4.950000e+03   2005.000000  7.224500e+04        2021.0   \n",
       "50%    9.000000e+03   2010.000000  1.134520e+05        2021.0   \n",
       "75%    1.790000e+04   2014.000000  1.559700e+05        2021.0   \n",
       "max    3.736929e+09   2022.000000  1.000000e+07        2021.0   \n",
       "\n",
       "       income_this_year  \n",
       "count      85786.000000  \n",
       "mean       65868.049134  \n",
       "std        13139.164673  \n",
       "min        45881.000000  \n",
       "25%        56494.000000  \n",
       "50%        62270.000000  \n",
       "75%        76614.000000  \n",
       "max        96477.000000  "
      ]
     },
     "execution_count": 8,
     "metadata": {},
     "output_type": "execute_result"
    }
   ],
   "source": [
    "# Read data and get relevant statistics for numerical values\n",
    "EDA_data = pd.read_csv('data_with_income.csv')\n",
    "EDA_data.describe()"
   ]
  },
  {
   "cell_type": "markdown",
   "id": "cf560923",
   "metadata": {},
   "source": [
    "Exploratory Data Analysis "
   ]
  },
  {
   "cell_type": "code",
   "execution_count": 9,
   "id": "179e6bd1",
   "metadata": {},
   "outputs": [
    {
     "name": "stderr",
     "output_type": "stream",
     "text": [
      "/var/folders/v2/ct67bgdd55x221sfv_qy4jvw0000gn/T/ipykernel_22669/976127114.py:4: FutureWarning: this method is deprecated in favour of `Styler.format(precision=..)`\n",
      "  corr.style.background_gradient(cmap='coolwarm').set_precision(2)\n"
     ]
    },
    {
     "data": {
      "text/html": [
       "<style type=\"text/css\">\n",
       "#T_5d11a_row0_col0, #T_5d11a_row1_col1, #T_5d11a_row2_col2, #T_5d11a_row3_col3 {\n",
       "  background-color: #b40426;\n",
       "  color: #f1f1f1;\n",
       "}\n",
       "#T_5d11a_row0_col1, #T_5d11a_row3_col1 {\n",
       "  background-color: #506bda;\n",
       "  color: #f1f1f1;\n",
       "}\n",
       "#T_5d11a_row0_col2 {\n",
       "  background-color: #516ddb;\n",
       "  color: #f1f1f1;\n",
       "}\n",
       "#T_5d11a_row0_col3, #T_5d11a_row1_col3 {\n",
       "  background-color: #3e51c5;\n",
       "  color: #f1f1f1;\n",
       "}\n",
       "#T_5d11a_row1_col0, #T_5d11a_row1_col2, #T_5d11a_row2_col0, #T_5d11a_row2_col1, #T_5d11a_row2_col3, #T_5d11a_row3_col0 {\n",
       "  background-color: #3b4cc0;\n",
       "  color: #f1f1f1;\n",
       "}\n",
       "#T_5d11a_row3_col2 {\n",
       "  background-color: #4c66d6;\n",
       "  color: #f1f1f1;\n",
       "}\n",
       "</style>\n",
       "<table id=\"T_5d11a\">\n",
       "  <thead>\n",
       "    <tr>\n",
       "      <th class=\"blank level0\" >&nbsp;</th>\n",
       "      <th id=\"T_5d11a_level0_col0\" class=\"col_heading level0 col0\" >price</th>\n",
       "      <th id=\"T_5d11a_level0_col1\" class=\"col_heading level0 col1\" >year</th>\n",
       "      <th id=\"T_5d11a_level0_col2\" class=\"col_heading level0 col2\" >odometer</th>\n",
       "      <th id=\"T_5d11a_level0_col3\" class=\"col_heading level0 col3\" >income_this_year</th>\n",
       "    </tr>\n",
       "  </thead>\n",
       "  <tbody>\n",
       "    <tr>\n",
       "      <th id=\"T_5d11a_level0_row0\" class=\"row_heading level0 row0\" >price</th>\n",
       "      <td id=\"T_5d11a_row0_col0\" class=\"data row0 col0\" >1.00</td>\n",
       "      <td id=\"T_5d11a_row0_col1\" class=\"data row0 col1\" >-0.00</td>\n",
       "      <td id=\"T_5d11a_row0_col2\" class=\"data row0 col2\" >0.00</td>\n",
       "      <td id=\"T_5d11a_row0_col3\" class=\"data row0 col3\" >-0.00</td>\n",
       "    </tr>\n",
       "    <tr>\n",
       "      <th id=\"T_5d11a_level0_row1\" class=\"row_heading level0 row1\" >year</th>\n",
       "      <td id=\"T_5d11a_row1_col0\" class=\"data row1 col0\" >-0.00</td>\n",
       "      <td id=\"T_5d11a_row1_col1\" class=\"data row1 col1\" >1.00</td>\n",
       "      <td id=\"T_5d11a_row1_col2\" class=\"data row1 col2\" >-0.08</td>\n",
       "      <td id=\"T_5d11a_row1_col3\" class=\"data row1 col3\" >-0.00</td>\n",
       "    </tr>\n",
       "    <tr>\n",
       "      <th id=\"T_5d11a_level0_row2\" class=\"row_heading level0 row2\" >odometer</th>\n",
       "      <td id=\"T_5d11a_row2_col0\" class=\"data row2 col0\" >0.00</td>\n",
       "      <td id=\"T_5d11a_row2_col1\" class=\"data row2 col1\" >-0.08</td>\n",
       "      <td id=\"T_5d11a_row2_col2\" class=\"data row2 col2\" >1.00</td>\n",
       "      <td id=\"T_5d11a_row2_col3\" class=\"data row2 col3\" >-0.02</td>\n",
       "    </tr>\n",
       "    <tr>\n",
       "      <th id=\"T_5d11a_level0_row3\" class=\"row_heading level0 row3\" >income_this_year</th>\n",
       "      <td id=\"T_5d11a_row3_col0\" class=\"data row3 col0\" >-0.00</td>\n",
       "      <td id=\"T_5d11a_row3_col1\" class=\"data row3 col1\" >-0.00</td>\n",
       "      <td id=\"T_5d11a_row3_col2\" class=\"data row3 col2\" >-0.02</td>\n",
       "      <td id=\"T_5d11a_row3_col3\" class=\"data row3 col3\" >1.00</td>\n",
       "    </tr>\n",
       "  </tbody>\n",
       "</table>\n"
      ],
      "text/plain": [
       "<pandas.io.formats.style.Styler at 0x177811d80>"
      ]
     },
     "execution_count": 9,
     "metadata": {},
     "output_type": "execute_result"
    }
   ],
   "source": [
    "# Correlation matrix visualization\n",
    "corr = EDA_data[['region','price','year','manufacturer', 'model', 'condition', 'cylinders', 'fuel', 'odometer', \\\n",
    "                'transmission', 'drive', 'size', 'type', 'paint_color', 'state', 'income_this_year']].corr()\n",
    "corr.style.background_gradient(cmap='coolwarm').set_precision(2)"
   ]
  },
  {
   "cell_type": "markdown",
   "id": "e09ba5a0",
   "metadata": {},
   "source": [
    "Histograms of different variables to get our skew results "
   ]
  },
  {
   "cell_type": "code",
   "execution_count": 10,
   "id": "9d3ca390",
   "metadata": {},
   "outputs": [
    {
     "name": "stdout",
     "output_type": "stream",
     "text": [
      "count        86309\n",
      "unique         404\n",
      "top       columbus\n",
      "freq          1116\n",
      "Name: region, dtype: object\n"
     ]
    },
    {
     "data": {
      "text/plain": [
       "Text(0.5, 1.0, 'Top 30 Cities in Dataset')"
      ]
     },
     "execution_count": 10,
     "metadata": {},
     "output_type": "execute_result"
    },
    {
     "data": {
      "image/png": "[encoded data removed]",
      "text/plain": [
       "<Figure size 432x288 with 1 Axes>"
      ]
     },
     "metadata": {
      "needs_background": "light"
     },
     "output_type": "display_data"
    }
   ],
   "source": [
    "# Cities in Dataset\n",
    "print(EDA_data.region.describe())\n",
    "EDA_data['region'].value_counts().sort_values(ascending=0)[:30].plot(kind='bar')\n",
    "plt.title(\"Top 30 Cities in Dataset\")"
   ]
  },
  {
   "cell_type": "code",
   "execution_count": 11,
   "id": "c5d6ef20",
   "metadata": {},
   "outputs": [
    {
     "name": "stdout",
     "output_type": "stream",
     "text": [
      "count    86309.000000\n",
      "mean      2007.813403\n",
      "std         11.123597\n",
      "min       1900.000000\n",
      "25%       2005.000000\n",
      "50%       2010.000000\n",
      "75%       2014.000000\n",
      "max       2022.000000\n",
      "Name: year, dtype: float64\n"
     ]
    },
    {
     "data": {
      "text/plain": [
       "Text(0.5, 1.0, 'Top 30 Years in Dataset')"
      ]
     },
     "execution_count": 11,
     "metadata": {},
     "output_type": "execute_result"
    },
    {
     "data": {
      "image/png": "[encoded data removed]",
      "text/plain": [
       "<Figure size 432x288 with 1 Axes>"
      ]
     },
     "metadata": {
      "needs_background": "light"
     },
     "output_type": "display_data"
    }
   ],
   "source": [
    "# Car Years in Dataset\n",
    "print(EDA_data.year.describe())\n",
    "EDA_data['year'].value_counts().sort_values(ascending=0)[:30].plot(kind='bar')\n",
    "plt.title(\"Top 30 Years in Dataset\")"
   ]
  },
  {
   "cell_type": "code",
   "execution_count": 12,
   "id": "a810dbcb",
   "metadata": {},
   "outputs": [
    {
     "name": "stdout",
     "output_type": "stream",
     "text": [
      "count     82120\n",
      "unique       41\n",
      "top        ford\n",
      "freq      16112\n",
      "Name: manufacturer, dtype: object\n"
     ]
    },
    {
     "data": {
      "text/plain": [
       "Text(0.5, 1.0, 'Top 30 Manufacturers in Dataset')"
      ]
     },
     "execution_count": 12,
     "metadata": {},
     "output_type": "execute_result"
    },
    {
     "data": {
      "image/png": "[encoded data removed]",
      "text/plain": [
       "<Figure size 432x288 with 1 Axes>"
      ]
     },
     "metadata": {
      "needs_background": "light"
     },
     "output_type": "display_data"
    }
   ],
   "source": [
    "# Manufacturers (Brands) in Dataset\n",
    "print(EDA_data.manufacturer.describe())\n",
    "EDA_data['manufacturer'].value_counts().sort_values(ascending=0)[:30].plot(kind='bar')\n",
    "plt.title(\"Top 30 Manufacturers in Dataset\")"
   ]
  },
  {
   "cell_type": "code",
   "execution_count": 13,
   "id": "d6f31785",
   "metadata": {},
   "outputs": [
    {
     "name": "stdout",
     "output_type": "stream",
     "text": [
      "count     85288\n",
      "unique    11933\n",
      "top       f-150\n",
      "freq       1681\n",
      "Name: model, dtype: object\n"
     ]
    },
    {
     "data": {
      "text/plain": [
       "Text(0.5, 1.0, 'Top 30 Common Models in Dataset')"
      ]
     },
     "execution_count": 13,
     "metadata": {},
     "output_type": "execute_result"
    },
    {
     "data": {
      "image/png": "[encoded data removed]",
      "text/plain": [
       "<Figure size 432x288 with 1 Axes>"
      ]
     },
     "metadata": {
      "needs_background": "light"
     },
     "output_type": "display_data"
    }
   ],
   "source": [
    "# Models in Dataset\n",
    "print(EDA_data.model.describe())\n",
    "EDA_data['model'].value_counts().sort_values(ascending=0)[:30].plot(kind='bar')\n",
    "plt.title(\"Top 30 Common Models in Dataset\")"
   ]
  },
  {
   "cell_type": "code",
   "execution_count": 14,
   "id": "b180aa22",
   "metadata": {},
   "outputs": [
    {
     "name": "stdout",
     "output_type": "stream",
     "text": [
      "count         86309\n",
      "unique            6\n",
      "top       excellent\n",
      "freq          42547\n",
      "Name: condition, dtype: object\n"
     ]
    },
    {
     "data": {
      "text/plain": [
       "Text(0.5, 1.0, 'Conditions in Dataset')"
      ]
     },
     "execution_count": 14,
     "metadata": {},
     "output_type": "execute_result"
    },
    {
     "data": {
      "image/png": "[encoded data removed]",
      "text/plain": [
       "<Figure size 432x288 with 1 Axes>"
      ]
     },
     "metadata": {
      "needs_background": "light"
     },
     "output_type": "display_data"
    }
   ],
   "source": [
    "# Condition of Cars in Dataset\n",
    "print(EDA_data.condition.describe())\n",
    "EDA_data['condition'].value_counts().sort_values(ascending=0).plot(kind='bar')\n",
    "plt.title(\"Conditions in Dataset\")"
   ]
  },
  {
   "cell_type": "code",
   "execution_count": 15,
   "id": "cd31d9cd",
   "metadata": {},
   "outputs": [
    {
     "name": "stdout",
     "output_type": "stream",
     "text": [
      "count           86309\n",
      "unique              8\n",
      "top       6 cylinders\n",
      "freq            29290\n",
      "Name: cylinders, dtype: object\n"
     ]
    },
    {
     "data": {
      "text/plain": [
       "Text(0.5, 1.0, 'Cylinder Counts in Dataset')"
      ]
     },
     "execution_count": 15,
     "metadata": {},
     "output_type": "execute_result"
    },
    {
     "data": {
      "image/png": "[encoded data removed]",
      "text/plain": [
       "<Figure size 432x288 with 1 Axes>"
      ]
     },
     "metadata": {
      "needs_background": "light"
     },
     "output_type": "display_data"
    }
   ],
   "source": [
    "# Cylinder Counts in Dataset\n",
    "print(EDA_data.cylinders.describe())\n",
    "EDA_data['cylinders'].value_counts().sort_values(ascending=0).plot(kind='bar')\n",
    "plt.title(\"Cylinder Counts in Dataset\")"
   ]
  },
  {
   "cell_type": "code",
   "execution_count": 16,
   "id": "2c4e9d20",
   "metadata": {},
   "outputs": [
    {
     "name": "stdout",
     "output_type": "stream",
     "text": [
      "count     86309\n",
      "unique        5\n",
      "top         gas\n",
      "freq      78317\n",
      "Name: fuel, dtype: object\n"
     ]
    },
    {
     "data": {
      "text/plain": [
       "Text(0.5, 1.0, 'Fuel Types in Dataset')"
      ]
     },
     "execution_count": 16,
     "metadata": {},
     "output_type": "execute_result"
    },
    {
     "data": {
      "image/png": "[encoded data removed]",
      "text/plain": [
       "<Figure size 432x288 with 1 Axes>"
      ]
     },
     "metadata": {
      "needs_background": "light"
     },
     "output_type": "display_data"
    }
   ],
   "source": [
    "# Fuel Types in Dataset\n",
    "print(EDA_data.fuel.describe())\n",
    "EDA_data['fuel'].value_counts().sort_values(ascending=0).plot(kind='bar')\n",
    "plt.title(\"Fuel Types in Dataset\")"
   ]
  },
  {
   "cell_type": "code",
   "execution_count": 17,
   "id": "99850676",
   "metadata": {},
   "outputs": [
    {
     "name": "stdout",
     "output_type": "stream",
     "text": [
      "count    8.630900e+04\n",
      "mean     1.256997e+05\n",
      "std      2.587053e+05\n",
      "min      0.000000e+00\n",
      "25%      7.224500e+04\n",
      "50%      1.134520e+05\n",
      "75%      1.559700e+05\n",
      "max      1.000000e+07\n",
      "Name: odometer, dtype: float64\n"
     ]
    },
    {
     "data": {
      "text/plain": [
       "Text(0.5, 1.0, 'Top 30 Odomoeter Readings in Dataset')"
      ]
     },
     "execution_count": 17,
     "metadata": {},
     "output_type": "execute_result"
    },
    {
     "data": {
      "image/png": "[encoded data removed]",
      "text/plain": [
       "<Figure size 432x288 with 1 Axes>"
      ]
     },
     "metadata": {
      "needs_background": "light"
     },
     "output_type": "display_data"
    }
   ],
   "source": [
    "# Odomoter (Number of Miles) Readings in Dataset\n",
    "print(EDA_data.odometer.describe())\n",
    "EDA_data['odometer'].value_counts().sort_values(ascending=0)[:30].plot(kind='bar')\n",
    "plt.title(\"Top 30 Odomoeter Readings in Dataset\")"
   ]
  },
  {
   "cell_type": "code",
   "execution_count": 18,
   "id": "22ed04a9",
   "metadata": {},
   "outputs": [
    {
     "name": "stdout",
     "output_type": "stream",
     "text": [
      "count         86298\n",
      "unique            3\n",
      "top       automatic\n",
      "freq          78271\n",
      "Name: transmission, dtype: object\n"
     ]
    },
    {
     "data": {
      "text/plain": [
       "Text(0.5, 1.0, 'Transmission Types in Dataset')"
      ]
     },
     "execution_count": 18,
     "metadata": {},
     "output_type": "execute_result"
    },
    {
     "data": {
      "image/png": "[encoded data removed]",
      "text/plain": [
       "<Figure size 432x288 with 1 Axes>"
      ]
     },
     "metadata": {
      "needs_background": "light"
     },
     "output_type": "display_data"
    }
   ],
   "source": [
    "# Transmission Types in Dataset\n",
    "print(EDA_data.transmission.describe())\n",
    "EDA_data['transmission'].value_counts().sort_values(ascending=0).plot(kind='bar')\n",
    "plt.title(\"Transmission Types in Dataset\")"
   ]
  },
  {
   "cell_type": "code",
   "execution_count": 19,
   "id": "f35ef12a",
   "metadata": {},
   "outputs": [
    {
     "name": "stdout",
     "output_type": "stream",
     "text": [
      "count     86309\n",
      "unique        3\n",
      "top         4wd\n",
      "freq      35394\n",
      "Name: drive, dtype: object\n"
     ]
    },
    {
     "data": {
      "text/plain": [
       "Text(0.5, 1.0, 'Drive Types in Dataset')"
      ]
     },
     "execution_count": 19,
     "metadata": {},
     "output_type": "execute_result"
    },
    {
     "data": {
      "image/png": "[encoded data removed]",
      "text/plain": [
       "<Figure size 432x288 with 1 Axes>"
      ]
     },
     "metadata": {
      "needs_background": "light"
     },
     "output_type": "display_data"
    }
   ],
   "source": [
    "# Drive Types in Dataset\n",
    "print(EDA_data.drive.describe())\n",
    "EDA_data['drive'].value_counts().sort_values(ascending=0).plot(kind='bar')\n",
    "plt.title(\"Drive Types in Dataset\")"
   ]
  },
  {
   "cell_type": "code",
   "execution_count": 20,
   "id": "d3cc52b6",
   "metadata": {},
   "outputs": [
    {
     "name": "stdout",
     "output_type": "stream",
     "text": [
      "count         86309\n",
      "unique            4\n",
      "top       full-size\n",
      "freq          48218\n",
      "Name: size, dtype: object\n"
     ]
    },
    {
     "data": {
      "text/plain": [
       "Text(0.5, 1.0, 'Sizes in Dataset')"
      ]
     },
     "execution_count": 20,
     "metadata": {},
     "output_type": "execute_result"
    },
    {
     "data": {
      "image/png": "[encoded data removed]",
      "text/plain": [
       "<Figure size 432x288 with 1 Axes>"
      ]
     },
     "metadata": {
      "needs_background": "light"
     },
     "output_type": "display_data"
    }
   ],
   "source": [
    "# Car Sizes in Dataset\n",
    "print(EDA_data['size'].describe())\n",
    "EDA_data['size'].value_counts().sort_values(ascending=0).plot(kind='bar')\n",
    "plt.title(\"Sizes in Dataset\")"
   ]
  },
  {
   "cell_type": "code",
   "execution_count": 21,
   "id": "39f3c12e",
   "metadata": {},
   "outputs": [
    {
     "name": "stdout",
     "output_type": "stream",
     "text": [
      "count     84240\n",
      "unique       13\n",
      "top       sedan\n",
      "freq      22741\n",
      "Name: type, dtype: object\n"
     ]
    },
    {
     "data": {
      "text/plain": [
       "Text(0.5, 1.0, 'Car Types in Dataset')"
      ]
     },
     "execution_count": 21,
     "metadata": {},
     "output_type": "execute_result"
    },
    {
     "data": {
      "image/png": "[encoded data removed]",
      "text/plain": [
       "<Figure size 432x288 with 1 Axes>"
      ]
     },
     "metadata": {
      "needs_background": "light"
     },
     "output_type": "display_data"
    }
   ],
   "source": [
    "# Car Types in Dataset\n",
    "print(EDA_data.type.describe())\n",
    "EDA_data['type'].value_counts().sort_values(ascending=0).plot(kind='bar')\n",
    "plt.title(\"Car Types in Dataset\")"
   ]
  },
  {
   "cell_type": "code",
   "execution_count": 22,
   "id": "6ffd6ef2",
   "metadata": {},
   "outputs": [
    {
     "name": "stdout",
     "output_type": "stream",
     "text": [
      "count     86309\n",
      "unique       12\n",
      "top       white\n",
      "freq      21591\n",
      "Name: paint_color, dtype: object\n"
     ]
    },
    {
     "data": {
      "text/plain": [
       "Text(0.5, 1.0, 'Paint Colors in Dataset')"
      ]
     },
     "execution_count": 22,
     "metadata": {},
     "output_type": "execute_result"
    },
    {
     "data": {
      "image/png": "[encoded data removed]",
      "text/plain": [
       "<Figure size 432x288 with 1 Axes>"
      ]
     },
     "metadata": {
      "needs_background": "light"
     },
     "output_type": "display_data"
    }
   ],
   "source": [
    "# Color of Cars in Dataset\n",
    "print(EDA_data.paint_color.describe())\n",
    "EDA_data['paint_color'].value_counts().sort_values(ascending=0).plot(kind='bar')\n",
    "plt.title(\"Paint Colors in Dataset\")"
   ]
  },
  {
   "cell_type": "code",
   "execution_count": 23,
   "id": "098aacee",
   "metadata": {},
   "outputs": [
    {
     "name": "stdout",
     "output_type": "stream",
     "text": [
      "count     86309\n",
      "unique       51\n",
      "top          CA\n",
      "freq       9273\n",
      "Name: state, dtype: object\n"
     ]
    },
    {
     "data": {
      "text/plain": [
       "Text(0.5, 1.0, 'Top 30 State Listings in Dataset')"
      ]
     },
     "execution_count": 23,
     "metadata": {},
     "output_type": "execute_result"
    },
    {
     "data": {
      "image/png": "[encoded data removed]",
      "text/plain": [
       "<Figure size 432x288 with 1 Axes>"
      ]
     },
     "metadata": {
      "needs_background": "light"
     },
     "output_type": "display_data"
    }
   ],
   "source": [
    "# States in Dataset\n",
    "print(EDA_data.state.describe())\n",
    "EDA_data['state'].value_counts().sort_values(ascending=0)[:30].plot(kind='bar')\n",
    "plt.title(\"Top 30 State Listings in Dataset\")"
   ]
  },
  {
   "cell_type": "code",
   "execution_count": 24,
   "id": "69d4467c",
   "metadata": {},
   "outputs": [
    {
     "name": "stdout",
     "output_type": "stream",
     "text": [
      "count    85786.000000\n",
      "mean     65868.049134\n",
      "std      13139.164673\n",
      "min      45881.000000\n",
      "25%      56494.000000\n",
      "50%      62270.000000\n",
      "75%      76614.000000\n",
      "max      96477.000000\n",
      "Name: income_this_year, dtype: float64\n"
     ]
    }
   ],
   "source": [
    "# Income statistics in Data\n",
    "print(EDA_data.income_this_year.describe())"
   ]
  },
  {
   "cell_type": "code",
   "execution_count": 25,
   "id": "88088ac8",
   "metadata": {},
   "outputs": [
    {
     "name": "stdout",
     "output_type": "stream",
     "text": [
      "count    8.630900e+04\n",
      "mean     1.183463e+05\n",
      "std      1.839753e+07\n",
      "min      0.000000e+00\n",
      "25%      4.950000e+03\n",
      "50%      9.000000e+03\n",
      "75%      1.790000e+04\n",
      "max      3.736929e+09\n",
      "Name: price, dtype: float64\n"
     ]
    }
   ],
   "source": [
    "# Prices in data to understand what clipping we need\n",
    "print(EDA_data.price.describe())"
   ]
  },
  {
   "cell_type": "markdown",
   "id": "15e1e051",
   "metadata": {},
   "source": [
    "\n",
    "\n",
    "One-hotted Data and Models\n",
    "\n"
   ]
  },
  {
   "cell_type": "code",
   "execution_count": 26,
   "id": "eecc56f0",
   "metadata": {},
   "outputs": [
    {
     "data": {
      "text/html": [
       "<div>\n",
       "<style scoped>\n",
       "    .dataframe tbody tr th:only-of-type {\n",
       "        vertical-align: middle;\n",
       "    }\n",
       "\n",
       "    .dataframe tbody tr th {\n",
       "        vertical-align: top;\n",
       "    }\n",
       "\n",
       "    .dataframe thead th {\n",
       "        text-align: right;\n",
       "    }\n",
       "</style>\n",
       "<table border=\"1\" class=\"dataframe\">\n",
       "  <thead>\n",
       "    <tr style=\"text-align: right;\">\n",
       "      <th></th>\n",
       "      <th>price</th>\n",
       "      <th>year</th>\n",
       "      <th>condition</th>\n",
       "      <th>cylinders</th>\n",
       "      <th>odometer</th>\n",
       "      <th>posting_date</th>\n",
       "      <th>income_this_year</th>\n",
       "      <th>manufactureracura</th>\n",
       "      <th>manufactureraudi</th>\n",
       "      <th>manufacturerbmw</th>\n",
       "      <th>...</th>\n",
       "      <th>typeSUV</th>\n",
       "      <th>typetruck</th>\n",
       "      <th>typevan</th>\n",
       "      <th>paint_colorblack</th>\n",
       "      <th>paint_colorblue</th>\n",
       "      <th>paint_colorgrey</th>\n",
       "      <th>paint_colorother</th>\n",
       "      <th>paint_colorred</th>\n",
       "      <th>paint_colorsilver</th>\n",
       "      <th>paint_colorwhite</th>\n",
       "    </tr>\n",
       "  </thead>\n",
       "  <tbody>\n",
       "    <tr>\n",
       "      <th>0</th>\n",
       "      <td>15000.0</td>\n",
       "      <td>2013</td>\n",
       "      <td>10</td>\n",
       "      <td>6</td>\n",
       "      <td>128000</td>\n",
       "      <td>2021</td>\n",
       "      <td>49769</td>\n",
       "      <td>0</td>\n",
       "      <td>0</td>\n",
       "      <td>0</td>\n",
       "      <td>...</td>\n",
       "      <td>0</td>\n",
       "      <td>1</td>\n",
       "      <td>0</td>\n",
       "      <td>1</td>\n",
       "      <td>0</td>\n",
       "      <td>0</td>\n",
       "      <td>0</td>\n",
       "      <td>0</td>\n",
       "      <td>0</td>\n",
       "      <td>0</td>\n",
       "    </tr>\n",
       "    <tr>\n",
       "      <th>1</th>\n",
       "      <td>19900.0</td>\n",
       "      <td>2004</td>\n",
       "      <td>6</td>\n",
       "      <td>8</td>\n",
       "      <td>88000</td>\n",
       "      <td>2021</td>\n",
       "      <td>49769</td>\n",
       "      <td>0</td>\n",
       "      <td>0</td>\n",
       "      <td>0</td>\n",
       "      <td>...</td>\n",
       "      <td>0</td>\n",
       "      <td>0</td>\n",
       "      <td>0</td>\n",
       "      <td>0</td>\n",
       "      <td>1</td>\n",
       "      <td>0</td>\n",
       "      <td>0</td>\n",
       "      <td>0</td>\n",
       "      <td>0</td>\n",
       "      <td>0</td>\n",
       "    </tr>\n",
       "    <tr>\n",
       "      <th>2</th>\n",
       "      <td>14000.0</td>\n",
       "      <td>2012</td>\n",
       "      <td>10</td>\n",
       "      <td>6</td>\n",
       "      <td>95000</td>\n",
       "      <td>2021</td>\n",
       "      <td>49769</td>\n",
       "      <td>0</td>\n",
       "      <td>0</td>\n",
       "      <td>0</td>\n",
       "      <td>...</td>\n",
       "      <td>0</td>\n",
       "      <td>0</td>\n",
       "      <td>1</td>\n",
       "      <td>0</td>\n",
       "      <td>0</td>\n",
       "      <td>0</td>\n",
       "      <td>0</td>\n",
       "      <td>0</td>\n",
       "      <td>1</td>\n",
       "      <td>0</td>\n",
       "    </tr>\n",
       "    <tr>\n",
       "      <th>3</th>\n",
       "      <td>22500.0</td>\n",
       "      <td>2001</td>\n",
       "      <td>6</td>\n",
       "      <td>8</td>\n",
       "      <td>144700</td>\n",
       "      <td>2021</td>\n",
       "      <td>49769</td>\n",
       "      <td>0</td>\n",
       "      <td>0</td>\n",
       "      <td>0</td>\n",
       "      <td>...</td>\n",
       "      <td>0</td>\n",
       "      <td>1</td>\n",
       "      <td>0</td>\n",
       "      <td>0</td>\n",
       "      <td>0</td>\n",
       "      <td>0</td>\n",
       "      <td>0</td>\n",
       "      <td>0</td>\n",
       "      <td>0</td>\n",
       "      <td>1</td>\n",
       "    </tr>\n",
       "    <tr>\n",
       "      <th>4</th>\n",
       "      <td>15000.0</td>\n",
       "      <td>2017</td>\n",
       "      <td>10</td>\n",
       "      <td>8</td>\n",
       "      <td>90000</td>\n",
       "      <td>2021</td>\n",
       "      <td>49769</td>\n",
       "      <td>0</td>\n",
       "      <td>0</td>\n",
       "      <td>0</td>\n",
       "      <td>...</td>\n",
       "      <td>0</td>\n",
       "      <td>0</td>\n",
       "      <td>0</td>\n",
       "      <td>0</td>\n",
       "      <td>0</td>\n",
       "      <td>1</td>\n",
       "      <td>0</td>\n",
       "      <td>0</td>\n",
       "      <td>0</td>\n",
       "      <td>0</td>\n",
       "    </tr>\n",
       "    <tr>\n",
       "      <th>...</th>\n",
       "      <td>...</td>\n",
       "      <td>...</td>\n",
       "      <td>...</td>\n",
       "      <td>...</td>\n",
       "      <td>...</td>\n",
       "      <td>...</td>\n",
       "      <td>...</td>\n",
       "      <td>...</td>\n",
       "      <td>...</td>\n",
       "      <td>...</td>\n",
       "      <td>...</td>\n",
       "      <td>...</td>\n",
       "      <td>...</td>\n",
       "      <td>...</td>\n",
       "      <td>...</td>\n",
       "      <td>...</td>\n",
       "      <td>...</td>\n",
       "      <td>...</td>\n",
       "      <td>...</td>\n",
       "      <td>...</td>\n",
       "      <td>...</td>\n",
       "    </tr>\n",
       "    <tr>\n",
       "      <th>65798</th>\n",
       "      <td>18000.0</td>\n",
       "      <td>2005</td>\n",
       "      <td>10</td>\n",
       "      <td>8</td>\n",
       "      <td>130000</td>\n",
       "      <td>2021</td>\n",
       "      <td>59626</td>\n",
       "      <td>0</td>\n",
       "      <td>0</td>\n",
       "      <td>0</td>\n",
       "      <td>...</td>\n",
       "      <td>0</td>\n",
       "      <td>1</td>\n",
       "      <td>0</td>\n",
       "      <td>0</td>\n",
       "      <td>1</td>\n",
       "      <td>0</td>\n",
       "      <td>0</td>\n",
       "      <td>0</td>\n",
       "      <td>0</td>\n",
       "      <td>0</td>\n",
       "    </tr>\n",
       "    <tr>\n",
       "      <th>65799</th>\n",
       "      <td>18000.0</td>\n",
       "      <td>1990</td>\n",
       "      <td>6</td>\n",
       "      <td>8</td>\n",
       "      <td>114400</td>\n",
       "      <td>2021</td>\n",
       "      <td>59626</td>\n",
       "      <td>0</td>\n",
       "      <td>0</td>\n",
       "      <td>0</td>\n",
       "      <td>...</td>\n",
       "      <td>1</td>\n",
       "      <td>0</td>\n",
       "      <td>0</td>\n",
       "      <td>1</td>\n",
       "      <td>0</td>\n",
       "      <td>0</td>\n",
       "      <td>0</td>\n",
       "      <td>0</td>\n",
       "      <td>0</td>\n",
       "      <td>0</td>\n",
       "    </tr>\n",
       "    <tr>\n",
       "      <th>65800</th>\n",
       "      <td>9800.0</td>\n",
       "      <td>1985</td>\n",
       "      <td>15</td>\n",
       "      <td>6</td>\n",
       "      <td>115000</td>\n",
       "      <td>2021</td>\n",
       "      <td>59626</td>\n",
       "      <td>0</td>\n",
       "      <td>0</td>\n",
       "      <td>0</td>\n",
       "      <td>...</td>\n",
       "      <td>0</td>\n",
       "      <td>0</td>\n",
       "      <td>0</td>\n",
       "      <td>0</td>\n",
       "      <td>0</td>\n",
       "      <td>0</td>\n",
       "      <td>0</td>\n",
       "      <td>1</td>\n",
       "      <td>0</td>\n",
       "      <td>0</td>\n",
       "    </tr>\n",
       "    <tr>\n",
       "      <th>65801</th>\n",
       "      <td>6800.0</td>\n",
       "      <td>1997</td>\n",
       "      <td>6</td>\n",
       "      <td>8</td>\n",
       "      <td>69550</td>\n",
       "      <td>2021</td>\n",
       "      <td>59626</td>\n",
       "      <td>0</td>\n",
       "      <td>0</td>\n",
       "      <td>0</td>\n",
       "      <td>...</td>\n",
       "      <td>0</td>\n",
       "      <td>0</td>\n",
       "      <td>0</td>\n",
       "      <td>0</td>\n",
       "      <td>0</td>\n",
       "      <td>0</td>\n",
       "      <td>0</td>\n",
       "      <td>0</td>\n",
       "      <td>0</td>\n",
       "      <td>1</td>\n",
       "    </tr>\n",
       "    <tr>\n",
       "      <th>65802</th>\n",
       "      <td>21900.0</td>\n",
       "      <td>1920</td>\n",
       "      <td>6</td>\n",
       "      <td>6</td>\n",
       "      <td>11065</td>\n",
       "      <td>2021</td>\n",
       "      <td>59626</td>\n",
       "      <td>0</td>\n",
       "      <td>0</td>\n",
       "      <td>0</td>\n",
       "      <td>...</td>\n",
       "      <td>0</td>\n",
       "      <td>0</td>\n",
       "      <td>0</td>\n",
       "      <td>1</td>\n",
       "      <td>0</td>\n",
       "      <td>0</td>\n",
       "      <td>0</td>\n",
       "      <td>0</td>\n",
       "      <td>0</td>\n",
       "      <td>0</td>\n",
       "    </tr>\n",
       "  </tbody>\n",
       "</table>\n",
       "<p>65803 rows × 65 columns</p>\n",
       "</div>"
      ],
      "text/plain": [
       "         price  year  condition  cylinders  odometer  posting_date  \\\n",
       "0      15000.0  2013         10          6    128000          2021   \n",
       "1      19900.0  2004          6          8     88000          2021   \n",
       "2      14000.0  2012         10          6     95000          2021   \n",
       "3      22500.0  2001          6          8    144700          2021   \n",
       "4      15000.0  2017         10          8     90000          2021   \n",
       "...        ...   ...        ...        ...       ...           ...   \n",
       "65798  18000.0  2005         10          8    130000          2021   \n",
       "65799  18000.0  1990          6          8    114400          2021   \n",
       "65800   9800.0  1985         15          6    115000          2021   \n",
       "65801   6800.0  1997          6          8     69550          2021   \n",
       "65802  21900.0  1920          6          6     11065          2021   \n",
       "\n",
       "       income_this_year  manufactureracura  manufactureraudi  manufacturerbmw  \\\n",
       "0                 49769                  0                 0                0   \n",
       "1                 49769                  0                 0                0   \n",
       "2                 49769                  0                 0                0   \n",
       "3                 49769                  0                 0                0   \n",
       "4                 49769                  0                 0                0   \n",
       "...                 ...                ...               ...              ...   \n",
       "65798             59626                  0                 0                0   \n",
       "65799             59626                  0                 0                0   \n",
       "65800             59626                  0                 0                0   \n",
       "65801             59626                  0                 0                0   \n",
       "65802             59626                  0                 0                0   \n",
       "\n",
       "       ...  typeSUV  typetruck  typevan  paint_colorblack  paint_colorblue  \\\n",
       "0      ...        0          1        0                 1                0   \n",
       "1      ...        0          0        0                 0                1   \n",
       "2      ...        0          0        1                 0                0   \n",
       "3      ...        0          1        0                 0                0   \n",
       "4      ...        0          0        0                 0                0   \n",
       "...    ...      ...        ...      ...               ...              ...   \n",
       "65798  ...        0          1        0                 0                1   \n",
       "65799  ...        1          0        0                 1                0   \n",
       "65800  ...        0          0        0                 0                0   \n",
       "65801  ...        0          0        0                 0                0   \n",
       "65802  ...        0          0        0                 1                0   \n",
       "\n",
       "       paint_colorgrey  paint_colorother  paint_colorred  paint_colorsilver  \\\n",
       "0                    0                 0               0                  0   \n",
       "1                    0                 0               0                  0   \n",
       "2                    0                 0               0                  1   \n",
       "3                    0                 0               0                  0   \n",
       "4                    1                 0               0                  0   \n",
       "...                ...               ...             ...                ...   \n",
       "65798                0                 0               0                  0   \n",
       "65799                0                 0               0                  0   \n",
       "65800                0                 0               1                  0   \n",
       "65801                0                 0               0                  0   \n",
       "65802                0                 0               0                  0   \n",
       "\n",
       "       paint_colorwhite  \n",
       "0                     0  \n",
       "1                     0  \n",
       "2                     0  \n",
       "3                     1  \n",
       "4                     0  \n",
       "...                 ...  \n",
       "65798                 0  \n",
       "65799                 0  \n",
       "65800                 0  \n",
       "65801                 1  \n",
       "65802                 0  \n",
       "\n",
       "[65803 rows x 65 columns]"
      ]
     },
     "execution_count": 26,
     "metadata": {},
     "output_type": "execute_result"
    }
   ],
   "source": [
    "# One-hotted data for most relevant results\n",
    "one_hot_data = pd.read_csv('one_hotted_training_data.csv')\n",
    "one_hot_data"
   ]
  },
  {
   "cell_type": "code",
   "execution_count": 27,
   "id": "e97c0949",
   "metadata": {},
   "outputs": [
    {
     "name": "stdout",
     "output_type": "stream",
     "text": [
      "count    6.580300e+04\n",
      "mean     1.502506e+05\n",
      "std      2.106967e+07\n",
      "min      1.000000e+00\n",
      "25%      5.200000e+03\n",
      "50%      9.295000e+03\n",
      "75%      1.747750e+04\n",
      "max      3.736929e+09\n",
      "Name: price, dtype: float64\n"
     ]
    }
   ],
   "source": [
    "# Compare price statistics of one-hotted data to original dataset\n",
    "print(one_hot_data.price.describe())"
   ]
  },
  {
   "cell_type": "code",
   "execution_count": null,
   "id": "9b59c3db",
   "metadata": {},
   "outputs": [],
   "source": []
  }
 ],
 "metadata": {
  "kernelspec": {
   "display_name": "Python 3 (ipykernel)",
   "language": "python",
   "name": "python3"
  },
  "language_info": {
   "codemirror_mode": {
    "name": "ipython",
    "version": 3
   },
   "file_extension": ".py",
   "mimetype": "text/x-python",
   "name": "python",
   "nbconvert_exporter": "python",
   "pygments_lexer": "ipython3",
   "version": "3.10.5"
  },
  "vscode": {
   "interpreter": {
    "hash": "3a9da6eb0ba1af7ba75b6c53796da44ca68271d5b8ded23df7ea2b9af7f41496"
   }
  }
 },
 "nbformat": 4,
 "nbformat_minor": 5
}
